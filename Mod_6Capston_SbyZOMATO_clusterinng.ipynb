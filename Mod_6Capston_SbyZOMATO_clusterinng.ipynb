{
  "nbformat": 4,
  "nbformat_minor": 0,
  "metadata": {
    "colab": {
      "provenance": [],
      "collapsed_sections": [
        "vncDsAP0Gaoa",
        "FJNUwmbgGyua",
        "mDgbUHAGgjLW",
        "35m5QtbWiB9F",
        "PoPl-ycgm1ru",
        "H0kj-8xxnORC",
        "nA9Y7ga8ng1Z",
        "PBTbrJXOngz2",
        "u3PMJOP6ngxN",
        "dauF4eBmngu3",
        "MSa1f5Uengrz",
        "0wOQAZs5pc--",
        "K5QZ13OEpz2H",
        "lQ7QKXXCp7Bj",
        "448CDAPjqfQr",
        "KSlN3yHqYklG",
        "ijmpgYnKYklI",
        "EM7whBJCYoAo",
        "85gYPyotYoAp",
        "4Of9eVA-YrdM",
        "F6T5p64dYrdO",
        "bamQiAODYuh1",
        "GwzvFGzlYuh3",
        "OH-pJp9IphqM",
        "_ouA3fa0phqN",
        "g-ATYxFrGrvw",
        "yLjJCtPM0KBk",
        "VfCC591jGiD4",
        "ArJBuiUVfxKd",
        "h_CCil-SKHpo",
        "gCX9965dhzqZ",
        "gIfDvo9L0UH2"
      ],
      "include_colab_link": true
    },
    "kernelspec": {
      "name": "python3",
      "display_name": "Python 3"
    },
    "language_info": {
      "name": "python"
    }
  },
  "cells": [
    {
      "cell_type": "markdown",
      "metadata": {
        "id": "view-in-github",
        "colab_type": "text"
      },
      "source": [
        "<a href=\"https://colab.research.google.com/github/SaahilKrishna/Capstone-Projects/blob/main/Mod_6Capston_SbyZOMATO_clusterinng.ipynb\" target=\"_parent\"><img src=\"https://colab.research.google.com/assets/colab-badge.svg\" alt=\"Open In Colab\"/></a>"
      ]
    },
    {
      "cell_type": "markdown",
      "source": [
        "# **Project Name**    - ZOMATO RESTURANT  REVIEW AND SENTIMENT ANALYSIS\n",
        "\n"
      ],
      "metadata": {
        "id": "vncDsAP0Gaoa"
      }
    },
    {
      "cell_type": "markdown",
      "source": [
        "# GitHub Link"
      ],
      "metadata": {
        "id": "iKtqVDf8kuZK"
      }
    },
    {
      "cell_type": "markdown",
      "source": [
        "# **Project Summary -**"
      ],
      "metadata": {
        "id": "FJNUwmbgGyua"
      }
    },
    {
      "cell_type": "markdown",
      "source": [
        "This project involves analyzing restaurant data from Zomato to extract meaningful insights and identify trends in India's food industry. The dataset contains information on restaurant details, cuisines, costs, user reviews, and ratings. The primary goals are to perform sentiment analysis on customer reviews to understand public perception and to segment the restaurants into clusters using hierarchical clustering techniques based on various features like cost, ratings, and cuisines. These analyses aim to provide business intelligence that can assist customers in finding top-rated restaurants in their area and help Zomato improve its service offerings by identifying key improvement areas. The clustering results further enable better-targeted marketing strategies and recommendations. The project utilizes various data preprocessing techniques, visualization tools, and machine learning algorithms to uncover trends and draw actionable insights for growth and customer satisfaction."
      ],
      "metadata": {
        "id": "F6v_1wHtG2nS"
      }
    },
    {
      "cell_type": "markdown",
      "source": [
        "# **General Guidelines** : -  "
      ],
      "metadata": {
        "id": "mDgbUHAGgjLW"
      }
    },
    {
      "cell_type": "markdown",
      "source": [
        "1.   Well-structured, formatted, and commented code is required.\n",
        "2.   Exception Handling, Production Grade Code & Deployment Ready Code will be a plus. Those students will be awarded some additional credits.\n",
        "     \n",
        "     The additional credits will have advantages over other students during Star Student selection.\n",
        "       \n",
        "             [ Note: - Deployment Ready Code is defined as, the whole .ipynb notebook should be executable in one go\n",
        "                       without a single error logged. ]\n",
        "\n",
        "3.   Each and every logic should have proper comments.\n",
        "4. You may add as many number of charts you want. Make Sure for each and every chart the following format should be answered.\n",
        "        \n",
        "\n",
        "```\n",
        "# Chart visualization code\n",
        "```\n",
        "            \n",
        "\n",
        "*   Why did you pick the specific chart?\n",
        "*   What is/are the insight(s) found from the chart?\n",
        "* Will the gained insights help creating a positive business impact?\n",
        "Are there any insights that lead to negative growth? Justify with specific reason.\n",
        "\n",
        "5. You have to create at least 15 logical & meaningful charts having important insights.\n",
        "\n",
        "\n",
        "[ Hints : - Do the Vizualization in  a structured way while following \"UBM\" Rule.\n",
        "\n",
        "U - Univariate Analysis,\n",
        "\n",
        "B - Bivariate Analysis (Numerical - Categorical, Numerical - Numerical, Categorical - Categorical)\n",
        "\n",
        "M - Multivariate Analysis\n",
        " ]\n",
        "\n",
        "\n",
        "\n",
        "\n",
        "\n",
        "6. You may add more ml algorithms for model creation. Make sure for each and every algorithm, the following format should be answered.\n",
        "\n",
        "\n",
        "*   Explain the ML Model used and it's performance using Evaluation metric Score Chart.\n",
        "\n",
        "\n",
        "*   Cross- Validation & Hyperparameter Tuning\n",
        "\n",
        "*   Have you seen any improvement? Note down the improvement with updates Evaluation metric Score Chart.\n",
        "\n",
        "*   Explain each evaluation metric's indication towards business and the business impact pf the ML model used.\n",
        "\n",
        "\n",
        "\n",
        "\n",
        "\n",
        "\n",
        "\n",
        "\n",
        "\n",
        "\n",
        "\n",
        "\n",
        "\n",
        "\n",
        "\n",
        "\n",
        "\n",
        "\n"
      ],
      "metadata": {
        "id": "ZrxVaUj-hHfC"
      }
    },
    {
      "cell_type": "markdown",
      "source": [
        "# ***Let's Begin !***"
      ],
      "metadata": {
        "id": "O_i_v8NEhb9l"
      }
    },
    {
      "cell_type": "markdown",
      "source": [
        "## ***1. Know Your Data***"
      ],
      "metadata": {
        "id": "HhfV-JJviCcP"
      }
    },
    {
      "cell_type": "markdown",
      "source": [
        "### Import Libraries"
      ],
      "metadata": {
        "id": "Y3lxredqlCYt"
      }
    },
    {
      "cell_type": "code",
      "source": [
        "# Import Libraries\n",
        "import numpy as np\n",
        "import pandas as pd\n",
        "from numpy import math\n",
        "from numpy import loadtxt\n",
        "import seaborn as sns\n",
        "import matplotlib.pyplot as plt\n",
        "import missingno\n",
        "\n",
        "from sklearn.preprocessing import StandardScaler\n",
        "from sklearn.model_selection import train_test_split\n",
        "from sklearn import metrics\n",
        "from sklearn.preprocessing import MultiLabelBinarizer\n",
        "import os\n",
        "\n",
        "import warnings\n",
        "warnings.filterwarnings('ignore')"
      ],
      "metadata": {
        "id": "M8Vqi-pPk-HR"
      },
      "execution_count": null,
      "outputs": []
    },
    {
      "cell_type": "code",
      "source": [],
      "metadata": {
        "id": "W7bhwZGizSEr"
      },
      "execution_count": null,
      "outputs": []
    },
    {
      "cell_type": "code",
      "source": [
        "from google.colab import drive\n",
        "drive.mount('/content/drive')\n",
        "\n",
        "os.chdir('/content/drive/MyDrive/Capston Project')\n",
        "os.getcwd()\n",
        "!ls\n",
        "\n",
        "restaurant_data = pd.read_csv('mod_6capstonZomato Restaurant names and Metadata.csv')\n",
        "reviews=pd.read_csv('mod_6capstonZomato Restaurant reviews.csv')\n",
        "\n"
      ],
      "metadata": {
        "id": "IdQunDScLt9Y"
      },
      "execution_count": null,
      "outputs": []
    },
    {
      "cell_type": "markdown",
      "source": [
        "### Dataset First View"
      ],
      "metadata": {
        "id": "x71ZqKXriCWQ"
      }
    },
    {
      "cell_type": "code",
      "source": [
        "# Dataset First Look\n",
        "restaurant_data.head()"
      ],
      "metadata": {
        "id": "LWNFOSvLl09H",
        "colab": {
          "base_uri": "https://localhost:8080/",
          "height": 293
        },
        "outputId": "03c3c4b7-3284-44eb-909b-ae7b53798372"
      },
      "execution_count": null,
      "outputs": [
        {
          "output_type": "execute_result",
          "data": {
            "text/plain": [
              "                             Name  \\\n",
              "0                 Beyond Flavours   \n",
              "1                        Paradise   \n",
              "2                        Flechazo   \n",
              "3  Shah Ghouse Hotel & Restaurant   \n",
              "4      Over The Moon Brew Company   \n",
              "\n",
              "                                               Links   Cost  \\\n",
              "0  https://www.zomato.com/hyderabad/beyond-flavou...    800   \n",
              "1  https://www.zomato.com/hyderabad/paradise-gach...    800   \n",
              "2  https://www.zomato.com/hyderabad/flechazo-gach...  1,300   \n",
              "3  https://www.zomato.com/hyderabad/shah-ghouse-h...    800   \n",
              "4  https://www.zomato.com/hyderabad/over-the-moon...  1,200   \n",
              "\n",
              "                                         Collections  \\\n",
              "0  Food Hygiene Rated Restaurants in Hyderabad, C...   \n",
              "1                                Hyderabad's Hottest   \n",
              "2                 Great Buffets, Hyderabad's Hottest   \n",
              "3                             Late Night Restaurants   \n",
              "4  Best Bars & Pubs, Food Hygiene Rated Restauran...   \n",
              "\n",
              "                                            Cuisines  \\\n",
              "0  Chinese, Continental, Kebab, European, South I...   \n",
              "1                     Biryani, North Indian, Chinese   \n",
              "2       Asian, Mediterranean, North Indian, Desserts   \n",
              "3  Biryani, North Indian, Chinese, Seafood, Bever...   \n",
              "4  Asian, Continental, North Indian, Chinese, Med...   \n",
              "\n",
              "                                             Timings  \n",
              "0      12noon to 3:30pm, 6:30pm to 11:30pm (Mon-Sun)  \n",
              "1                                     11 AM to 11 PM  \n",
              "2              11:30 AM to 4:30 PM, 6:30 PM to 11 PM  \n",
              "3                                    12 Noon to 2 AM  \n",
              "4  12noon to 11pm (Mon, Tue, Wed, Thu, Sun), 12no...  "
            ],
            "text/html": [
              "\n",
              "  <div id=\"df-a06f5d76-09bf-40cf-9cc8-3cc42ae13cda\" class=\"colab-df-container\">\n",
              "    <div>\n",
              "<style scoped>\n",
              "    .dataframe tbody tr th:only-of-type {\n",
              "        vertical-align: middle;\n",
              "    }\n",
              "\n",
              "    .dataframe tbody tr th {\n",
              "        vertical-align: top;\n",
              "    }\n",
              "\n",
              "    .dataframe thead th {\n",
              "        text-align: right;\n",
              "    }\n",
              "</style>\n",
              "<table border=\"1\" class=\"dataframe\">\n",
              "  <thead>\n",
              "    <tr style=\"text-align: right;\">\n",
              "      <th></th>\n",
              "      <th>Name</th>\n",
              "      <th>Links</th>\n",
              "      <th>Cost</th>\n",
              "      <th>Collections</th>\n",
              "      <th>Cuisines</th>\n",
              "      <th>Timings</th>\n",
              "    </tr>\n",
              "  </thead>\n",
              "  <tbody>\n",
              "    <tr>\n",
              "      <th>0</th>\n",
              "      <td>Beyond Flavours</td>\n",
              "      <td>https://www.zomato.com/hyderabad/beyond-flavou...</td>\n",
              "      <td>800</td>\n",
              "      <td>Food Hygiene Rated Restaurants in Hyderabad, C...</td>\n",
              "      <td>Chinese, Continental, Kebab, European, South I...</td>\n",
              "      <td>12noon to 3:30pm, 6:30pm to 11:30pm (Mon-Sun)</td>\n",
              "    </tr>\n",
              "    <tr>\n",
              "      <th>1</th>\n",
              "      <td>Paradise</td>\n",
              "      <td>https://www.zomato.com/hyderabad/paradise-gach...</td>\n",
              "      <td>800</td>\n",
              "      <td>Hyderabad's Hottest</td>\n",
              "      <td>Biryani, North Indian, Chinese</td>\n",
              "      <td>11 AM to 11 PM</td>\n",
              "    </tr>\n",
              "    <tr>\n",
              "      <th>2</th>\n",
              "      <td>Flechazo</td>\n",
              "      <td>https://www.zomato.com/hyderabad/flechazo-gach...</td>\n",
              "      <td>1,300</td>\n",
              "      <td>Great Buffets, Hyderabad's Hottest</td>\n",
              "      <td>Asian, Mediterranean, North Indian, Desserts</td>\n",
              "      <td>11:30 AM to 4:30 PM, 6:30 PM to 11 PM</td>\n",
              "    </tr>\n",
              "    <tr>\n",
              "      <th>3</th>\n",
              "      <td>Shah Ghouse Hotel &amp; Restaurant</td>\n",
              "      <td>https://www.zomato.com/hyderabad/shah-ghouse-h...</td>\n",
              "      <td>800</td>\n",
              "      <td>Late Night Restaurants</td>\n",
              "      <td>Biryani, North Indian, Chinese, Seafood, Bever...</td>\n",
              "      <td>12 Noon to 2 AM</td>\n",
              "    </tr>\n",
              "    <tr>\n",
              "      <th>4</th>\n",
              "      <td>Over The Moon Brew Company</td>\n",
              "      <td>https://www.zomato.com/hyderabad/over-the-moon...</td>\n",
              "      <td>1,200</td>\n",
              "      <td>Best Bars &amp; Pubs, Food Hygiene Rated Restauran...</td>\n",
              "      <td>Asian, Continental, North Indian, Chinese, Med...</td>\n",
              "      <td>12noon to 11pm (Mon, Tue, Wed, Thu, Sun), 12no...</td>\n",
              "    </tr>\n",
              "  </tbody>\n",
              "</table>\n",
              "</div>\n",
              "    <div class=\"colab-df-buttons\">\n",
              "\n",
              "  <div class=\"colab-df-container\">\n",
              "    <button class=\"colab-df-convert\" onclick=\"convertToInteractive('df-a06f5d76-09bf-40cf-9cc8-3cc42ae13cda')\"\n",
              "            title=\"Convert this dataframe to an interactive table.\"\n",
              "            style=\"display:none;\">\n",
              "\n",
              "  <svg xmlns=\"http://www.w3.org/2000/svg\" height=\"24px\" viewBox=\"0 -960 960 960\">\n",
              "    <path d=\"M120-120v-720h720v720H120Zm60-500h600v-160H180v160Zm220 220h160v-160H400v160Zm0 220h160v-160H400v160ZM180-400h160v-160H180v160Zm440 0h160v-160H620v160ZM180-180h160v-160H180v160Zm440 0h160v-160H620v160Z\"/>\n",
              "  </svg>\n",
              "    </button>\n",
              "\n",
              "  <style>\n",
              "    .colab-df-container {\n",
              "      display:flex;\n",
              "      gap: 12px;\n",
              "    }\n",
              "\n",
              "    .colab-df-convert {\n",
              "      background-color: #E8F0FE;\n",
              "      border: none;\n",
              "      border-radius: 50%;\n",
              "      cursor: pointer;\n",
              "      display: none;\n",
              "      fill: #1967D2;\n",
              "      height: 32px;\n",
              "      padding: 0 0 0 0;\n",
              "      width: 32px;\n",
              "    }\n",
              "\n",
              "    .colab-df-convert:hover {\n",
              "      background-color: #E2EBFA;\n",
              "      box-shadow: 0px 1px 2px rgba(60, 64, 67, 0.3), 0px 1px 3px 1px rgba(60, 64, 67, 0.15);\n",
              "      fill: #174EA6;\n",
              "    }\n",
              "\n",
              "    .colab-df-buttons div {\n",
              "      margin-bottom: 4px;\n",
              "    }\n",
              "\n",
              "    [theme=dark] .colab-df-convert {\n",
              "      background-color: #3B4455;\n",
              "      fill: #D2E3FC;\n",
              "    }\n",
              "\n",
              "    [theme=dark] .colab-df-convert:hover {\n",
              "      background-color: #434B5C;\n",
              "      box-shadow: 0px 1px 3px 1px rgba(0, 0, 0, 0.15);\n",
              "      filter: drop-shadow(0px 1px 2px rgba(0, 0, 0, 0.3));\n",
              "      fill: #FFFFFF;\n",
              "    }\n",
              "  </style>\n",
              "\n",
              "    <script>\n",
              "      const buttonEl =\n",
              "        document.querySelector('#df-a06f5d76-09bf-40cf-9cc8-3cc42ae13cda button.colab-df-convert');\n",
              "      buttonEl.style.display =\n",
              "        google.colab.kernel.accessAllowed ? 'block' : 'none';\n",
              "\n",
              "      async function convertToInteractive(key) {\n",
              "        const element = document.querySelector('#df-a06f5d76-09bf-40cf-9cc8-3cc42ae13cda');\n",
              "        const dataTable =\n",
              "          await google.colab.kernel.invokeFunction('convertToInteractive',\n",
              "                                                    [key], {});\n",
              "        if (!dataTable) return;\n",
              "\n",
              "        const docLinkHtml = 'Like what you see? Visit the ' +\n",
              "          '<a target=\"_blank\" href=https://colab.research.google.com/notebooks/data_table.ipynb>data table notebook</a>'\n",
              "          + ' to learn more about interactive tables.';\n",
              "        element.innerHTML = '';\n",
              "        dataTable['output_type'] = 'display_data';\n",
              "        await google.colab.output.renderOutput(dataTable, element);\n",
              "        const docLink = document.createElement('div');\n",
              "        docLink.innerHTML = docLinkHtml;\n",
              "        element.appendChild(docLink);\n",
              "      }\n",
              "    </script>\n",
              "  </div>\n",
              "\n",
              "\n",
              "<div id=\"df-a0194996-6ba3-4658-8580-49da2ec7fd95\">\n",
              "  <button class=\"colab-df-quickchart\" onclick=\"quickchart('df-a0194996-6ba3-4658-8580-49da2ec7fd95')\"\n",
              "            title=\"Suggest charts\"\n",
              "            style=\"display:none;\">\n",
              "\n",
              "<svg xmlns=\"http://www.w3.org/2000/svg\" height=\"24px\"viewBox=\"0 0 24 24\"\n",
              "     width=\"24px\">\n",
              "    <g>\n",
              "        <path d=\"M19 3H5c-1.1 0-2 .9-2 2v14c0 1.1.9 2 2 2h14c1.1 0 2-.9 2-2V5c0-1.1-.9-2-2-2zM9 17H7v-7h2v7zm4 0h-2V7h2v10zm4 0h-2v-4h2v4z\"/>\n",
              "    </g>\n",
              "</svg>\n",
              "  </button>\n",
              "\n",
              "<style>\n",
              "  .colab-df-quickchart {\n",
              "      --bg-color: #E8F0FE;\n",
              "      --fill-color: #1967D2;\n",
              "      --hover-bg-color: #E2EBFA;\n",
              "      --hover-fill-color: #174EA6;\n",
              "      --disabled-fill-color: #AAA;\n",
              "      --disabled-bg-color: #DDD;\n",
              "  }\n",
              "\n",
              "  [theme=dark] .colab-df-quickchart {\n",
              "      --bg-color: #3B4455;\n",
              "      --fill-color: #D2E3FC;\n",
              "      --hover-bg-color: #434B5C;\n",
              "      --hover-fill-color: #FFFFFF;\n",
              "      --disabled-bg-color: #3B4455;\n",
              "      --disabled-fill-color: #666;\n",
              "  }\n",
              "\n",
              "  .colab-df-quickchart {\n",
              "    background-color: var(--bg-color);\n",
              "    border: none;\n",
              "    border-radius: 50%;\n",
              "    cursor: pointer;\n",
              "    display: none;\n",
              "    fill: var(--fill-color);\n",
              "    height: 32px;\n",
              "    padding: 0;\n",
              "    width: 32px;\n",
              "  }\n",
              "\n",
              "  .colab-df-quickchart:hover {\n",
              "    background-color: var(--hover-bg-color);\n",
              "    box-shadow: 0 1px 2px rgba(60, 64, 67, 0.3), 0 1px 3px 1px rgba(60, 64, 67, 0.15);\n",
              "    fill: var(--button-hover-fill-color);\n",
              "  }\n",
              "\n",
              "  .colab-df-quickchart-complete:disabled,\n",
              "  .colab-df-quickchart-complete:disabled:hover {\n",
              "    background-color: var(--disabled-bg-color);\n",
              "    fill: var(--disabled-fill-color);\n",
              "    box-shadow: none;\n",
              "  }\n",
              "\n",
              "  .colab-df-spinner {\n",
              "    border: 2px solid var(--fill-color);\n",
              "    border-color: transparent;\n",
              "    border-bottom-color: var(--fill-color);\n",
              "    animation:\n",
              "      spin 1s steps(1) infinite;\n",
              "  }\n",
              "\n",
              "  @keyframes spin {\n",
              "    0% {\n",
              "      border-color: transparent;\n",
              "      border-bottom-color: var(--fill-color);\n",
              "      border-left-color: var(--fill-color);\n",
              "    }\n",
              "    20% {\n",
              "      border-color: transparent;\n",
              "      border-left-color: var(--fill-color);\n",
              "      border-top-color: var(--fill-color);\n",
              "    }\n",
              "    30% {\n",
              "      border-color: transparent;\n",
              "      border-left-color: var(--fill-color);\n",
              "      border-top-color: var(--fill-color);\n",
              "      border-right-color: var(--fill-color);\n",
              "    }\n",
              "    40% {\n",
              "      border-color: transparent;\n",
              "      border-right-color: var(--fill-color);\n",
              "      border-top-color: var(--fill-color);\n",
              "    }\n",
              "    60% {\n",
              "      border-color: transparent;\n",
              "      border-right-color: var(--fill-color);\n",
              "    }\n",
              "    80% {\n",
              "      border-color: transparent;\n",
              "      border-right-color: var(--fill-color);\n",
              "      border-bottom-color: var(--fill-color);\n",
              "    }\n",
              "    90% {\n",
              "      border-color: transparent;\n",
              "      border-bottom-color: var(--fill-color);\n",
              "    }\n",
              "  }\n",
              "</style>\n",
              "\n",
              "  <script>\n",
              "    async function quickchart(key) {\n",
              "      const quickchartButtonEl =\n",
              "        document.querySelector('#' + key + ' button');\n",
              "      quickchartButtonEl.disabled = true;  // To prevent multiple clicks.\n",
              "      quickchartButtonEl.classList.add('colab-df-spinner');\n",
              "      try {\n",
              "        const charts = await google.colab.kernel.invokeFunction(\n",
              "            'suggestCharts', [key], {});\n",
              "      } catch (error) {\n",
              "        console.error('Error during call to suggestCharts:', error);\n",
              "      }\n",
              "      quickchartButtonEl.classList.remove('colab-df-spinner');\n",
              "      quickchartButtonEl.classList.add('colab-df-quickchart-complete');\n",
              "    }\n",
              "    (() => {\n",
              "      let quickchartButtonEl =\n",
              "        document.querySelector('#df-a0194996-6ba3-4658-8580-49da2ec7fd95 button');\n",
              "      quickchartButtonEl.style.display =\n",
              "        google.colab.kernel.accessAllowed ? 'block' : 'none';\n",
              "    })();\n",
              "  </script>\n",
              "</div>\n",
              "\n",
              "    </div>\n",
              "  </div>\n"
            ],
            "application/vnd.google.colaboratory.intrinsic+json": {
              "type": "dataframe",
              "variable_name": "restaurant_data",
              "summary": "{\n  \"name\": \"restaurant_data\",\n  \"rows\": 105,\n  \"fields\": [\n    {\n      \"column\": \"Name\",\n      \"properties\": {\n        \"dtype\": \"string\",\n        \"num_unique_values\": 105,\n        \"samples\": [\n          \"Pot Pourri\",\n          \"Komatose - Holiday Inn Express & Suites\",\n          \"Hyderabad Chefs\"\n        ],\n        \"semantic_type\": \"\",\n        \"description\": \"\"\n      }\n    },\n    {\n      \"column\": \"Links\",\n      \"properties\": {\n        \"dtype\": \"string\",\n        \"num_unique_values\": 105,\n        \"samples\": [\n          \"https://www.zomato.com/hyderabad/pot-pourri-gachibowli\",\n          \"https://www.zomato.com/hyderabad/komatose-holiday-inn-express-suites-gachibowli\",\n          \"https://www.zomato.com/hyderabad/hyderabad-chefs-gachibowli\"\n        ],\n        \"semantic_type\": \"\",\n        \"description\": \"\"\n      }\n    },\n    {\n      \"column\": \"Cost\",\n      \"properties\": {\n        \"dtype\": \"category\",\n        \"num_unique_values\": 29,\n        \"samples\": [\n          \"1,750\",\n          \"1,100\",\n          \"1,900\"\n        ],\n        \"semantic_type\": \"\",\n        \"description\": \"\"\n      }\n    },\n    {\n      \"column\": \"Collections\",\n      \"properties\": {\n        \"dtype\": \"category\",\n        \"num_unique_values\": 42,\n        \"samples\": [\n          \"Great Buffets, Trending This Week\",\n          \"Barbecue & Grill, Great Buffets, Corporate Favorites, Hyderabad's Hottest\",\n          \"Frozen Delights\"\n        ],\n        \"semantic_type\": \"\",\n        \"description\": \"\"\n      }\n    },\n    {\n      \"column\": \"Cuisines\",\n      \"properties\": {\n        \"dtype\": \"string\",\n        \"num_unique_values\": 92,\n        \"samples\": [\n          \"Finger Food, North Indian, Kebab, Chinese\",\n          \"Continental\",\n          \"Kebab, Continental, Italian, North Indian\"\n        ],\n        \"semantic_type\": \"\",\n        \"description\": \"\"\n      }\n    },\n    {\n      \"column\": \"Timings\",\n      \"properties\": {\n        \"dtype\": \"string\",\n        \"num_unique_values\": 77,\n        \"samples\": [\n          \"12noon to 11pm (Mon, Tue, Wed, Thu, Sun), 12noon to 12midnight (Fri-Sat)\",\n          \"12Noon to 11:30PM (Mon-Sun)\",\n          \"12 Noon to 3:30 PM, 6:30 PM to 11:30 PM\"\n        ],\n        \"semantic_type\": \"\",\n        \"description\": \"\"\n      }\n    }\n  ]\n}"
            }
          },
          "metadata": {},
          "execution_count": 11
        }
      ]
    },
    {
      "cell_type": "code",
      "source": [
        "reviews.head()"
      ],
      "metadata": {
        "id": "3LQcob4vaNWi",
        "colab": {
          "base_uri": "https://localhost:8080/",
          "height": 206
        },
        "outputId": "9cc4541d-379d-459f-f676-f5ae788debb8"
      },
      "execution_count": null,
      "outputs": [
        {
          "output_type": "execute_result",
          "data": {
            "text/plain": [
              "        Restaurant              Reviewer  \\\n",
              "0  Beyond Flavours     Rusha Chakraborty   \n",
              "1  Beyond Flavours  Anusha Tirumalaneedi   \n",
              "2  Beyond Flavours       Ashok Shekhawat   \n",
              "3  Beyond Flavours        Swapnil Sarkar   \n",
              "4  Beyond Flavours                Dileep   \n",
              "\n",
              "                                              Review Rating  \\\n",
              "0  The ambience was good, food was quite good . h...      5   \n",
              "1  Ambience is too good for a pleasant evening. S...      5   \n",
              "2  A must try.. great food great ambience. Thnx f...      5   \n",
              "3  Soumen das and Arun was a great guy. Only beca...      5   \n",
              "4  Food is good.we ordered Kodi drumsticks and ba...      5   \n",
              "\n",
              "                  Metadata             Time  Pictures  \n",
              "0   1 Review , 2 Followers  5/25/2019 15:54         0  \n",
              "1  3 Reviews , 2 Followers  5/25/2019 14:20         0  \n",
              "2  2 Reviews , 3 Followers  5/24/2019 22:54         0  \n",
              "3    1 Review , 1 Follower  5/24/2019 22:11         0  \n",
              "4  3 Reviews , 2 Followers  5/24/2019 21:37         0  "
            ],
            "text/html": [
              "\n",
              "  <div id=\"df-688c33f8-55ef-4eb8-9339-0dfadac50c68\" class=\"colab-df-container\">\n",
              "    <div>\n",
              "<style scoped>\n",
              "    .dataframe tbody tr th:only-of-type {\n",
              "        vertical-align: middle;\n",
              "    }\n",
              "\n",
              "    .dataframe tbody tr th {\n",
              "        vertical-align: top;\n",
              "    }\n",
              "\n",
              "    .dataframe thead th {\n",
              "        text-align: right;\n",
              "    }\n",
              "</style>\n",
              "<table border=\"1\" class=\"dataframe\">\n",
              "  <thead>\n",
              "    <tr style=\"text-align: right;\">\n",
              "      <th></th>\n",
              "      <th>Restaurant</th>\n",
              "      <th>Reviewer</th>\n",
              "      <th>Review</th>\n",
              "      <th>Rating</th>\n",
              "      <th>Metadata</th>\n",
              "      <th>Time</th>\n",
              "      <th>Pictures</th>\n",
              "    </tr>\n",
              "  </thead>\n",
              "  <tbody>\n",
              "    <tr>\n",
              "      <th>0</th>\n",
              "      <td>Beyond Flavours</td>\n",
              "      <td>Rusha Chakraborty</td>\n",
              "      <td>The ambience was good, food was quite good . h...</td>\n",
              "      <td>5</td>\n",
              "      <td>1 Review , 2 Followers</td>\n",
              "      <td>5/25/2019 15:54</td>\n",
              "      <td>0</td>\n",
              "    </tr>\n",
              "    <tr>\n",
              "      <th>1</th>\n",
              "      <td>Beyond Flavours</td>\n",
              "      <td>Anusha Tirumalaneedi</td>\n",
              "      <td>Ambience is too good for a pleasant evening. S...</td>\n",
              "      <td>5</td>\n",
              "      <td>3 Reviews , 2 Followers</td>\n",
              "      <td>5/25/2019 14:20</td>\n",
              "      <td>0</td>\n",
              "    </tr>\n",
              "    <tr>\n",
              "      <th>2</th>\n",
              "      <td>Beyond Flavours</td>\n",
              "      <td>Ashok Shekhawat</td>\n",
              "      <td>A must try.. great food great ambience. Thnx f...</td>\n",
              "      <td>5</td>\n",
              "      <td>2 Reviews , 3 Followers</td>\n",
              "      <td>5/24/2019 22:54</td>\n",
              "      <td>0</td>\n",
              "    </tr>\n",
              "    <tr>\n",
              "      <th>3</th>\n",
              "      <td>Beyond Flavours</td>\n",
              "      <td>Swapnil Sarkar</td>\n",
              "      <td>Soumen das and Arun was a great guy. Only beca...</td>\n",
              "      <td>5</td>\n",
              "      <td>1 Review , 1 Follower</td>\n",
              "      <td>5/24/2019 22:11</td>\n",
              "      <td>0</td>\n",
              "    </tr>\n",
              "    <tr>\n",
              "      <th>4</th>\n",
              "      <td>Beyond Flavours</td>\n",
              "      <td>Dileep</td>\n",
              "      <td>Food is good.we ordered Kodi drumsticks and ba...</td>\n",
              "      <td>5</td>\n",
              "      <td>3 Reviews , 2 Followers</td>\n",
              "      <td>5/24/2019 21:37</td>\n",
              "      <td>0</td>\n",
              "    </tr>\n",
              "  </tbody>\n",
              "</table>\n",
              "</div>\n",
              "    <div class=\"colab-df-buttons\">\n",
              "\n",
              "  <div class=\"colab-df-container\">\n",
              "    <button class=\"colab-df-convert\" onclick=\"convertToInteractive('df-688c33f8-55ef-4eb8-9339-0dfadac50c68')\"\n",
              "            title=\"Convert this dataframe to an interactive table.\"\n",
              "            style=\"display:none;\">\n",
              "\n",
              "  <svg xmlns=\"http://www.w3.org/2000/svg\" height=\"24px\" viewBox=\"0 -960 960 960\">\n",
              "    <path d=\"M120-120v-720h720v720H120Zm60-500h600v-160H180v160Zm220 220h160v-160H400v160Zm0 220h160v-160H400v160ZM180-400h160v-160H180v160Zm440 0h160v-160H620v160ZM180-180h160v-160H180v160Zm440 0h160v-160H620v160Z\"/>\n",
              "  </svg>\n",
              "    </button>\n",
              "\n",
              "  <style>\n",
              "    .colab-df-container {\n",
              "      display:flex;\n",
              "      gap: 12px;\n",
              "    }\n",
              "\n",
              "    .colab-df-convert {\n",
              "      background-color: #E8F0FE;\n",
              "      border: none;\n",
              "      border-radius: 50%;\n",
              "      cursor: pointer;\n",
              "      display: none;\n",
              "      fill: #1967D2;\n",
              "      height: 32px;\n",
              "      padding: 0 0 0 0;\n",
              "      width: 32px;\n",
              "    }\n",
              "\n",
              "    .colab-df-convert:hover {\n",
              "      background-color: #E2EBFA;\n",
              "      box-shadow: 0px 1px 2px rgba(60, 64, 67, 0.3), 0px 1px 3px 1px rgba(60, 64, 67, 0.15);\n",
              "      fill: #174EA6;\n",
              "    }\n",
              "\n",
              "    .colab-df-buttons div {\n",
              "      margin-bottom: 4px;\n",
              "    }\n",
              "\n",
              "    [theme=dark] .colab-df-convert {\n",
              "      background-color: #3B4455;\n",
              "      fill: #D2E3FC;\n",
              "    }\n",
              "\n",
              "    [theme=dark] .colab-df-convert:hover {\n",
              "      background-color: #434B5C;\n",
              "      box-shadow: 0px 1px 3px 1px rgba(0, 0, 0, 0.15);\n",
              "      filter: drop-shadow(0px 1px 2px rgba(0, 0, 0, 0.3));\n",
              "      fill: #FFFFFF;\n",
              "    }\n",
              "  </style>\n",
              "\n",
              "    <script>\n",
              "      const buttonEl =\n",
              "        document.querySelector('#df-688c33f8-55ef-4eb8-9339-0dfadac50c68 button.colab-df-convert');\n",
              "      buttonEl.style.display =\n",
              "        google.colab.kernel.accessAllowed ? 'block' : 'none';\n",
              "\n",
              "      async function convertToInteractive(key) {\n",
              "        const element = document.querySelector('#df-688c33f8-55ef-4eb8-9339-0dfadac50c68');\n",
              "        const dataTable =\n",
              "          await google.colab.kernel.invokeFunction('convertToInteractive',\n",
              "                                                    [key], {});\n",
              "        if (!dataTable) return;\n",
              "\n",
              "        const docLinkHtml = 'Like what you see? Visit the ' +\n",
              "          '<a target=\"_blank\" href=https://colab.research.google.com/notebooks/data_table.ipynb>data table notebook</a>'\n",
              "          + ' to learn more about interactive tables.';\n",
              "        element.innerHTML = '';\n",
              "        dataTable['output_type'] = 'display_data';\n",
              "        await google.colab.output.renderOutput(dataTable, element);\n",
              "        const docLink = document.createElement('div');\n",
              "        docLink.innerHTML = docLinkHtml;\n",
              "        element.appendChild(docLink);\n",
              "      }\n",
              "    </script>\n",
              "  </div>\n",
              "\n",
              "\n",
              "<div id=\"df-074d9915-c54c-46b9-967d-4b46732b1cda\">\n",
              "  <button class=\"colab-df-quickchart\" onclick=\"quickchart('df-074d9915-c54c-46b9-967d-4b46732b1cda')\"\n",
              "            title=\"Suggest charts\"\n",
              "            style=\"display:none;\">\n",
              "\n",
              "<svg xmlns=\"http://www.w3.org/2000/svg\" height=\"24px\"viewBox=\"0 0 24 24\"\n",
              "     width=\"24px\">\n",
              "    <g>\n",
              "        <path d=\"M19 3H5c-1.1 0-2 .9-2 2v14c0 1.1.9 2 2 2h14c1.1 0 2-.9 2-2V5c0-1.1-.9-2-2-2zM9 17H7v-7h2v7zm4 0h-2V7h2v10zm4 0h-2v-4h2v4z\"/>\n",
              "    </g>\n",
              "</svg>\n",
              "  </button>\n",
              "\n",
              "<style>\n",
              "  .colab-df-quickchart {\n",
              "      --bg-color: #E8F0FE;\n",
              "      --fill-color: #1967D2;\n",
              "      --hover-bg-color: #E2EBFA;\n",
              "      --hover-fill-color: #174EA6;\n",
              "      --disabled-fill-color: #AAA;\n",
              "      --disabled-bg-color: #DDD;\n",
              "  }\n",
              "\n",
              "  [theme=dark] .colab-df-quickchart {\n",
              "      --bg-color: #3B4455;\n",
              "      --fill-color: #D2E3FC;\n",
              "      --hover-bg-color: #434B5C;\n",
              "      --hover-fill-color: #FFFFFF;\n",
              "      --disabled-bg-color: #3B4455;\n",
              "      --disabled-fill-color: #666;\n",
              "  }\n",
              "\n",
              "  .colab-df-quickchart {\n",
              "    background-color: var(--bg-color);\n",
              "    border: none;\n",
              "    border-radius: 50%;\n",
              "    cursor: pointer;\n",
              "    display: none;\n",
              "    fill: var(--fill-color);\n",
              "    height: 32px;\n",
              "    padding: 0;\n",
              "    width: 32px;\n",
              "  }\n",
              "\n",
              "  .colab-df-quickchart:hover {\n",
              "    background-color: var(--hover-bg-color);\n",
              "    box-shadow: 0 1px 2px rgba(60, 64, 67, 0.3), 0 1px 3px 1px rgba(60, 64, 67, 0.15);\n",
              "    fill: var(--button-hover-fill-color);\n",
              "  }\n",
              "\n",
              "  .colab-df-quickchart-complete:disabled,\n",
              "  .colab-df-quickchart-complete:disabled:hover {\n",
              "    background-color: var(--disabled-bg-color);\n",
              "    fill: var(--disabled-fill-color);\n",
              "    box-shadow: none;\n",
              "  }\n",
              "\n",
              "  .colab-df-spinner {\n",
              "    border: 2px solid var(--fill-color);\n",
              "    border-color: transparent;\n",
              "    border-bottom-color: var(--fill-color);\n",
              "    animation:\n",
              "      spin 1s steps(1) infinite;\n",
              "  }\n",
              "\n",
              "  @keyframes spin {\n",
              "    0% {\n",
              "      border-color: transparent;\n",
              "      border-bottom-color: var(--fill-color);\n",
              "      border-left-color: var(--fill-color);\n",
              "    }\n",
              "    20% {\n",
              "      border-color: transparent;\n",
              "      border-left-color: var(--fill-color);\n",
              "      border-top-color: var(--fill-color);\n",
              "    }\n",
              "    30% {\n",
              "      border-color: transparent;\n",
              "      border-left-color: var(--fill-color);\n",
              "      border-top-color: var(--fill-color);\n",
              "      border-right-color: var(--fill-color);\n",
              "    }\n",
              "    40% {\n",
              "      border-color: transparent;\n",
              "      border-right-color: var(--fill-color);\n",
              "      border-top-color: var(--fill-color);\n",
              "    }\n",
              "    60% {\n",
              "      border-color: transparent;\n",
              "      border-right-color: var(--fill-color);\n",
              "    }\n",
              "    80% {\n",
              "      border-color: transparent;\n",
              "      border-right-color: var(--fill-color);\n",
              "      border-bottom-color: var(--fill-color);\n",
              "    }\n",
              "    90% {\n",
              "      border-color: transparent;\n",
              "      border-bottom-color: var(--fill-color);\n",
              "    }\n",
              "  }\n",
              "</style>\n",
              "\n",
              "  <script>\n",
              "    async function quickchart(key) {\n",
              "      const quickchartButtonEl =\n",
              "        document.querySelector('#' + key + ' button');\n",
              "      quickchartButtonEl.disabled = true;  // To prevent multiple clicks.\n",
              "      quickchartButtonEl.classList.add('colab-df-spinner');\n",
              "      try {\n",
              "        const charts = await google.colab.kernel.invokeFunction(\n",
              "            'suggestCharts', [key], {});\n",
              "      } catch (error) {\n",
              "        console.error('Error during call to suggestCharts:', error);\n",
              "      }\n",
              "      quickchartButtonEl.classList.remove('colab-df-spinner');\n",
              "      quickchartButtonEl.classList.add('colab-df-quickchart-complete');\n",
              "    }\n",
              "    (() => {\n",
              "      let quickchartButtonEl =\n",
              "        document.querySelector('#df-074d9915-c54c-46b9-967d-4b46732b1cda button');\n",
              "      quickchartButtonEl.style.display =\n",
              "        google.colab.kernel.accessAllowed ? 'block' : 'none';\n",
              "    })();\n",
              "  </script>\n",
              "</div>\n",
              "\n",
              "    </div>\n",
              "  </div>\n"
            ],
            "application/vnd.google.colaboratory.intrinsic+json": {
              "type": "dataframe",
              "variable_name": "reviews",
              "summary": "{\n  \"name\": \"reviews\",\n  \"rows\": 10000,\n  \"fields\": [\n    {\n      \"column\": \"Restaurant\",\n      \"properties\": {\n        \"dtype\": \"category\",\n        \"num_unique_values\": 100,\n        \"samples\": [\n          \"GD's\",\n          \"Diners Pavilion\",\n          \"Urban Asia - Kitchen & Bar\"\n        ],\n        \"semantic_type\": \"\",\n        \"description\": \"\"\n      }\n    },\n    {\n      \"column\": \"Reviewer\",\n      \"properties\": {\n        \"dtype\": \"string\",\n        \"num_unique_values\": 7446,\n        \"samples\": [\n          \"Ramana\",\n          \"Marupakula Mahati\",\n          \"Sandeep Das\"\n        ],\n        \"semantic_type\": \"\",\n        \"description\": \"\"\n      }\n    },\n    {\n      \"column\": \"Review\",\n      \"properties\": {\n        \"dtype\": \"string\",\n        \"num_unique_values\": 9364,\n        \"samples\": [\n          \"I had chosen this place for a weekend to spend quality time with my friends, overall can giving ratings for:\\nAmbiance - 10/10\\nFood - 5/10\\nMusic- 5/10\",\n          \"good location and menu\\nat first it seemed like an ordinary place, but had a good feel to it\\naccording to food the prices are quite high, not like the ingredients are imported.\\nfood was decent and so were the drinks\\nover an average experience\",\n          \"I stayed at Hyatt for over a week and every single day I was surprised to see something new on the buffet spread.\\nThe choice and variety is exemplary!\\nThe food is pretty delicious as well.\\nI recommend trying the pancakes !\"\n        ],\n        \"semantic_type\": \"\",\n        \"description\": \"\"\n      }\n    },\n    {\n      \"column\": \"Rating\",\n      \"properties\": {\n        \"dtype\": \"category\",\n        \"num_unique_values\": 10,\n        \"samples\": [\n          \"1.5\",\n          \"4\",\n          \"3.5\"\n        ],\n        \"semantic_type\": \"\",\n        \"description\": \"\"\n      }\n    },\n    {\n      \"column\": \"Metadata\",\n      \"properties\": {\n        \"dtype\": \"category\",\n        \"num_unique_values\": 2477,\n        \"samples\": [\n          \"52 Reviews , 97 Followers\",\n          \"62 Reviews , 118 Followers\",\n          \"50 Reviews , 161 Followers\"\n        ],\n        \"semantic_type\": \"\",\n        \"description\": \"\"\n      }\n    },\n    {\n      \"column\": \"Time\",\n      \"properties\": {\n        \"dtype\": \"object\",\n        \"num_unique_values\": 9782,\n        \"samples\": [\n          \"3/9/2019 17:31\",\n          \"4/26/2019 13:36\",\n          \"9/23/2018 18:25\"\n        ],\n        \"semantic_type\": \"\",\n        \"description\": \"\"\n      }\n    },\n    {\n      \"column\": \"Pictures\",\n      \"properties\": {\n        \"dtype\": \"number\",\n        \"std\": 2,\n        \"min\": 0,\n        \"max\": 64,\n        \"num_unique_values\": 36,\n        \"samples\": [\n          32,\n          15,\n          42\n        ],\n        \"semantic_type\": \"\",\n        \"description\": \"\"\n      }\n    }\n  ]\n}"
            }
          },
          "metadata": {},
          "execution_count": 12
        }
      ]
    },
    {
      "cell_type": "markdown",
      "source": [
        "### Dataset Rows & Columns count"
      ],
      "metadata": {
        "id": "7hBIi_osiCS2"
      }
    },
    {
      "cell_type": "code",
      "source": [
        "# Dataset Rows & Columns count\n",
        "restaurant_data.shape"
      ],
      "metadata": {
        "id": "Kllu7SJgmLij",
        "colab": {
          "base_uri": "https://localhost:8080/"
        },
        "outputId": "34d4fd68-08b4-45dd-e237-a30e0896e9e8"
      },
      "execution_count": null,
      "outputs": [
        {
          "output_type": "execute_result",
          "data": {
            "text/plain": [
              "(105, 6)"
            ]
          },
          "metadata": {},
          "execution_count": 13
        }
      ]
    },
    {
      "cell_type": "code",
      "source": [
        "reviews.shape"
      ],
      "metadata": {
        "id": "qwOg3Z5kaVX6",
        "colab": {
          "base_uri": "https://localhost:8080/"
        },
        "outputId": "b1abf21a-aeef-4e47-f20f-bed34ed33e63"
      },
      "execution_count": null,
      "outputs": [
        {
          "output_type": "execute_result",
          "data": {
            "text/plain": [
              "(10000, 7)"
            ]
          },
          "metadata": {},
          "execution_count": 14
        }
      ]
    },
    {
      "cell_type": "markdown",
      "source": [
        "### Dataset Information"
      ],
      "metadata": {
        "id": "JlHwYmJAmNHm"
      }
    },
    {
      "cell_type": "code",
      "source": [
        "# Dataset Info\n",
        "restaurant_data.info()"
      ],
      "metadata": {
        "id": "e9hRXRi6meOf",
        "colab": {
          "base_uri": "https://localhost:8080/"
        },
        "outputId": "3becaa38-6add-4f71-e64e-b99bcb333aae"
      },
      "execution_count": null,
      "outputs": [
        {
          "output_type": "stream",
          "name": "stdout",
          "text": [
            "<class 'pandas.core.frame.DataFrame'>\n",
            "RangeIndex: 105 entries, 0 to 104\n",
            "Data columns (total 6 columns):\n",
            " #   Column       Non-Null Count  Dtype \n",
            "---  ------       --------------  ----- \n",
            " 0   Name         105 non-null    object\n",
            " 1   Links        105 non-null    object\n",
            " 2   Cost         105 non-null    object\n",
            " 3   Collections  51 non-null     object\n",
            " 4   Cuisines     105 non-null    object\n",
            " 5   Timings      104 non-null    object\n",
            "dtypes: object(6)\n",
            "memory usage: 5.0+ KB\n"
          ]
        }
      ]
    },
    {
      "cell_type": "code",
      "source": [
        "reviews.info()"
      ],
      "metadata": {
        "id": "8Pca8x2waab4",
        "colab": {
          "base_uri": "https://localhost:8080/"
        },
        "outputId": "7749af33-8429-40c1-ebac-fe532474c381"
      },
      "execution_count": null,
      "outputs": [
        {
          "output_type": "stream",
          "name": "stdout",
          "text": [
            "<class 'pandas.core.frame.DataFrame'>\n",
            "RangeIndex: 10000 entries, 0 to 9999\n",
            "Data columns (total 7 columns):\n",
            " #   Column      Non-Null Count  Dtype \n",
            "---  ------      --------------  ----- \n",
            " 0   Restaurant  10000 non-null  object\n",
            " 1   Reviewer    9962 non-null   object\n",
            " 2   Review      9955 non-null   object\n",
            " 3   Rating      9962 non-null   object\n",
            " 4   Metadata    9962 non-null   object\n",
            " 5   Time        9962 non-null   object\n",
            " 6   Pictures    10000 non-null  int64 \n",
            "dtypes: int64(1), object(6)\n",
            "memory usage: 547.0+ KB\n"
          ]
        }
      ]
    },
    {
      "cell_type": "markdown",
      "source": [
        "#### Duplicate Values"
      ],
      "metadata": {
        "id": "35m5QtbWiB9F"
      }
    },
    {
      "cell_type": "code",
      "source": [
        "# Dataset Duplicate Value Count\n",
        "print(\"Duplicates in restaurant_data:\",restaurant_data.duplicated().sum())\n",
        "print(\"Duplicates in reviews:\",reviews.duplicated().sum())"
      ],
      "metadata": {
        "id": "1sLdpKYkmox0"
      },
      "execution_count": null,
      "outputs": []
    },
    {
      "cell_type": "markdown",
      "source": [
        "#### Missing Values/Null Values"
      ],
      "metadata": {
        "id": "PoPl-ycgm1ru"
      }
    },
    {
      "cell_type": "code",
      "source": [
        "# Missing Values/Null Values Count\n",
        "print(\"Missing values in restaurant_data:\")\n",
        "print(restaurant_data.isnull().sum(),\"\\n\")\n",
        "print(\"Missing values in reviews:\")\n",
        "print(reviews.isnull().sum())"
      ],
      "metadata": {
        "id": "GgHWkxvamxVg"
      },
      "execution_count": null,
      "outputs": []
    },
    {
      "cell_type": "code",
      "source": [
        "# Visualizing the missing values\n",
        "sns.heatmap(restaurant_data.isnull(), cbar=False)"
      ],
      "metadata": {
        "id": "3q5wnI3om9sJ"
      },
      "execution_count": null,
      "outputs": []
    },
    {
      "cell_type": "code",
      "source": [
        "sns.heatmap(reviews.isnull(), cbar=False)"
      ],
      "metadata": {
        "id": "M9M2K7EkbnFJ"
      },
      "execution_count": null,
      "outputs": []
    },
    {
      "cell_type": "markdown",
      "source": [
        "### What did you know about your dataset?"
      ],
      "metadata": {
        "id": "H0kj-8xxnORC"
      }
    },
    {
      "cell_type": "markdown",
      "source": [
        "Restaurants data\n",
        "\n",
        "The restaurants data consists of information about 105 restaurants with 6 features.\n",
        "In the column \"Collections\" 52% of values are missing\n",
        "Reviews data\n",
        "\n",
        "The reviews data cosists of information about 10000 reviews about the 105 restaurants with 7 features.\n",
        "In the columns \"Reviewer\",\"Review\",\"Rating\",\"Metadata\",\"Time\" <0.5% of the data is missing\n",
        "Datatypes of all the columns in each dataset is string object"
      ],
      "metadata": {
        "id": "gfoNAAC-nUe_"
      }
    },
    {
      "cell_type": "code",
      "source": [
        "restaurant_data.Cuisines_list = restaurant_data.Cuisines.apply(lambda x: x.lower().replace(\" \",\"\").split(\",\"))\n",
        "restaurant_data.Cuisines_list\n",
        "\n",
        "cusines_set = set()\n",
        "for cuisines in restaurant_data.Cuisines_list:\n",
        "  cusines_set.update(cuisines)\n",
        "cusines_set\n",
        "print(\"Total No. of cuisines\",len(cusines_set))\n",
        "print(cusines_set)"
      ],
      "metadata": {
        "id": "m6qH5tfkcb1Y"
      },
      "execution_count": null,
      "outputs": []
    },
    {
      "cell_type": "code",
      "source": [
        "# Replacing non-numerical values in the 'Rating' column with NaN\n",
        "reviews['Rating'] = pd.to_numeric(reviews['Rating'], errors='coerce')\n",
        "\n",
        "# Filling NaN values with the median of the numeric ratings\n",
        "reviews['Rating'].fillna(reviews['Rating'].median(), inplace=True)"
      ],
      "metadata": {
        "id": "PROZp6F8cjGa"
      },
      "execution_count": null,
      "outputs": []
    },
    {
      "cell_type": "markdown",
      "source": [
        "## ***2. Understanding Your Variables***"
      ],
      "metadata": {
        "id": "nA9Y7ga8ng1Z"
      }
    },
    {
      "cell_type": "code",
      "source": [
        "# Dataset Columns\n",
        "restaurant_data.columns"
      ],
      "metadata": {
        "id": "j7xfkqrt5Ag5"
      },
      "execution_count": null,
      "outputs": []
    },
    {
      "cell_type": "code",
      "source": [
        "reviews.columns"
      ],
      "metadata": {
        "id": "qqcevt0CdXJr"
      },
      "execution_count": null,
      "outputs": []
    },
    {
      "cell_type": "code",
      "source": [
        "# Dataset Describe\n",
        "restaurant_data.describe()"
      ],
      "metadata": {
        "id": "DnOaZdaE5Q5t"
      },
      "execution_count": null,
      "outputs": []
    },
    {
      "cell_type": "code",
      "source": [
        "reviews.describe()"
      ],
      "metadata": {
        "id": "nFKh-uDbdbmt"
      },
      "execution_count": null,
      "outputs": []
    },
    {
      "cell_type": "markdown",
      "source": [
        "### Variables Description"
      ],
      "metadata": {
        "id": "PBTbrJXOngz2"
      }
    },
    {
      "cell_type": "markdown",
      "source": [
        "Restaurant Data:¶\n",
        "Name: Name of Restaurants\n",
        "Links: URL Links of Restaurants\n",
        "Cost: Per person estimated cost of dining\n",
        "Collection: Tagging of Restaurants w.r.t. Zomato categories\n",
        "Cuisines: Cuisines served by restaurants\n",
        "Timings: Restaurant timings\n",
        "Review Data:\n",
        "Reviewer: Name of the reviewer\n",
        "Review: Review text\n",
        "Rating: Rating provided\n",
        "MetaData: Reviewer metadata - Number of reviews and followers\n",
        "Time: Date and Time of Review\n",
        "Pictures: Number of pictures posted with review"
      ],
      "metadata": {
        "id": "aJV4KIxSnxay"
      }
    },
    {
      "cell_type": "markdown",
      "source": [
        "### Check Unique Values for each variable."
      ],
      "metadata": {
        "id": "u3PMJOP6ngxN"
      }
    },
    {
      "cell_type": "code",
      "source": [
        "# Check Unique Values for each variable.\n",
        "for i in restaurant_data.columns.tolist():\n",
        "  print(\"Unique\",i,\":\",restaurant_data[i].nunique())"
      ],
      "metadata": {
        "id": "zms12Yq5n-jE"
      },
      "execution_count": null,
      "outputs": []
    },
    {
      "cell_type": "code",
      "source": [
        "for i in reviews.columns.tolist():\n",
        "  print(\"Unique\",i,\":\",reviews[i].nunique())"
      ],
      "metadata": {
        "id": "9kNOVOVQeRev"
      },
      "execution_count": null,
      "outputs": []
    },
    {
      "cell_type": "markdown",
      "source": [
        "## 3. ***Data Wrangling***"
      ],
      "metadata": {
        "id": "dauF4eBmngu3"
      }
    },
    {
      "cell_type": "markdown",
      "source": [
        "### Data Wrangling Code"
      ],
      "metadata": {
        "id": "bKJF3rekwFvQ"
      }
    },
    {
      "cell_type": "code",
      "source": [
        "#  Handling missing values\n",
        "\n",
        "# Dropping collections column since most of the values are null\n",
        "restaurant_data.drop(\"Collections\",axis= 1,inplace=True)\n",
        "\n",
        "# Dropping remaining null values from restaurant_data and reviews since they are very few\n",
        "restaurant_data.dropna(inplace=True)\n",
        "reviews.dropna(inplace=True)\n",
        "\n",
        "# Check for missing values After handling\n",
        "print(\"Missing values in restaurant_data:\")\n",
        "print(restaurant_data.isnull().sum(),\"\\n\")\n",
        "print(\"Missing values in reviews:\")\n",
        "print(reviews.isnull().sum())"
      ],
      "metadata": {
        "id": "wk-9a2fpoLcV"
      },
      "execution_count": null,
      "outputs": []
    },
    {
      "cell_type": "code",
      "source": [
        "# Drop duplicate rows\n",
        "restaurant_data.drop_duplicates(inplace=True)\n",
        "reviews.drop_duplicates(inplace=True)\n",
        "print(\"restaurant_data shape:\",restaurant_data.shape)\n",
        "print(\"reviews shape:\",reviews.shape)"
      ],
      "metadata": {
        "id": "JJOttB-ye6FD"
      },
      "execution_count": null,
      "outputs": []
    },
    {
      "cell_type": "code",
      "source": [
        "# Lets extract cuisines from the Cuisines(string) column and store as a list\n",
        "print(\"Cuisines data Before preprocessing:\\n\")\n",
        "print(restaurant_data.Cuisines[0])\n",
        "print(\"\\nCuisines data After preprocessing:\\n\")\n",
        "print(restaurant_data.Cuisines[0].lower().replace(\" \",\"\").split(\",\"))"
      ],
      "metadata": {
        "id": "YUIHop3De9q6"
      },
      "execution_count": null,
      "outputs": []
    },
    {
      "cell_type": "code",
      "source": [
        "# Lets apply the preprocessing steps on the Cuisines column\n",
        "restaurant_data[\"Cuisines_list\"] = restaurant_data.Cuisines.apply(lambda x: x.lower().replace(\" \",\"\").split(\",\"))\n",
        "\n",
        "# Lets check the names of count of unique cuisines\n",
        "cusines_set = set()\n",
        "for cuisines in restaurant_data.Cuisines_list:\n",
        "  cusines_set.update(cuisines)\n",
        "print(\"Total number of unique cuisines: \",len(cusines_set))\n",
        "cusines_set"
      ],
      "metadata": {
        "id": "9JbawLsPga0K"
      },
      "execution_count": null,
      "outputs": []
    },
    {
      "cell_type": "code",
      "source": [
        "# Preprocess and convert the cost column to int data type\n",
        "restaurant_data['Cost'] = restaurant_data['Cost'].str.replace(',', '').str.replace('₹', '').astype(int)\n",
        "restaurant_data.Cost"
      ],
      "metadata": {
        "id": "-WF_KKb-gugO"
      },
      "execution_count": null,
      "outputs": []
    },
    {
      "cell_type": "code",
      "source": [
        "restaurant_data.Cost.describe()"
      ],
      "metadata": {
        "id": "GE2fwsQrhZ_O"
      },
      "execution_count": null,
      "outputs": []
    },
    {
      "cell_type": "code",
      "source": [
        "restaurant_data[['Name','Cost','Cuisines_list']]"
      ],
      "metadata": {
        "id": "IdO9Q2xPhl9-"
      },
      "execution_count": null,
      "outputs": []
    },
    {
      "cell_type": "markdown",
      "source": [
        "*Data Wrangling on Reviews*"
      ],
      "metadata": {
        "id": "RBi9kp3MiQnd"
      }
    },
    {
      "cell_type": "code",
      "source": [
        "# replace non numbers with NAN\n",
        "reviews.Rating = pd.to_numeric(reviews.Rating, errors='coerce')\n",
        "reviews.Rating.fillna(reviews.Rating.mean(), inplace=True)"
      ],
      "metadata": {
        "id": "dKCclSDCiXrj"
      },
      "execution_count": null,
      "outputs": []
    },
    {
      "cell_type": "code",
      "source": [
        "# Checking the Metadata column to create a regex expression\n",
        "followers = reviews.Metadata.apply(lambda x: x.split(\",\")[-1])\n",
        "print(followers.apply(lambda x: x.split(\" \")[-1]).value_counts())\n",
        "\n",
        "review_count = reviews.Metadata.apply(lambda x: x.split(\",\")[0])\n",
        "print(review_count.apply(lambda x: x.split(\" \")[-1]).value_counts())"
      ],
      "metadata": {
        "id": "KOg9RL2bigcM"
      },
      "execution_count": null,
      "outputs": []
    },
    {
      "cell_type": "code",
      "source": [
        "import re\n",
        "def extract_follower_and_review_count(text):\n",
        "\n",
        "    # Define regular expressions for review and followers\n",
        "    review_pattern = r'(\\d+) Review'\n",
        "    followers_pattern = r'(\\d+) Follower'\n",
        "\n",
        "    # Search for the review and followers using regex\n",
        "    review_match = re.search(review_pattern, text)\n",
        "    followers_match = re.search(followers_pattern, text)\n",
        "\n",
        "    # Extract the review and followers values\n",
        "    review = review_match.group(1) if review_match else 0\n",
        "    followers = followers_match.group(1) if followers_match else 0\n",
        "    return [review, followers]\n",
        "\n",
        "extract_follower_and_review_count(\"1 Review , 22 Follower\")"
      ],
      "metadata": {
        "id": "lFXDHYSAjhum"
      },
      "execution_count": null,
      "outputs": []
    },
    {
      "cell_type": "code",
      "source": [
        "reviews[['prev_reviews_count', 'followers_count']] = reviews['Metadata'].apply(extract_follower_and_review_count).apply(pd.Series)\n",
        "reviews.drop('Metadata', axis=1, inplace=True)\n",
        "merged_restaurant_data = pd.merge(reviews, restaurant_data[[\"Name\",\"Cost\",\"Cuisines_list\"]], left_on='Restaurant', right_on='Name')\n",
        "merged_restaurant_data"
      ],
      "metadata": {
        "id": "IpTy4p4mjkeQ"
      },
      "execution_count": null,
      "outputs": []
    },
    {
      "cell_type": "markdown",
      "source": [
        "### What all manipulations have you done and insights you found?"
      ],
      "metadata": {
        "id": "MSa1f5Uengrz"
      }
    },
    {
      "cell_type": "markdown",
      "source": [
        "Dropped missing values and duplicates\n",
        "Extracted cuisines from the Cuisines column\n",
        "Converted cost column to int data type\n",
        "Insights\n",
        "\n",
        "There are 44 unique cuisines across 104 restaurants\n",
        "Estimated cost of dining of all 104 restaurents are in the range 150 Rs to 2800 Rs\n",
        "Extracting the locations from the links column we can observe that all restaurents are from Gachibowli, Hyderabad"
      ],
      "metadata": {
        "id": "LbyXE7I1olp8"
      }
    },
    {
      "cell_type": "markdown",
      "source": [
        "## ***4. Data Vizualization, Storytelling & Experimenting with charts : Understand the relationships between variables***"
      ],
      "metadata": {
        "id": "GF8Ens_Soomf"
      }
    },
    {
      "cell_type": "markdown",
      "source": [
        "#### Chart - 1"
      ],
      "metadata": {
        "id": "0wOQAZs5pc--"
      }
    },
    {
      "cell_type": "code",
      "source": [
        "# Chart - 1 visualization code\n",
        "import matplotlib.pyplot as plt\n",
        "plt.figure(figsize=(10, 6))\n",
        "sns.histplot(data=restaurant_data, x='Cost', kde=True, color='skyblue')\n",
        "plt.title('Restaurant Cost Distribution')\n",
        "plt.xlabel('Cost')\n",
        "plt.ylabel('Frequency')\n",
        "plt.show()\n",
        "print(\"\\n\",restaurant_data['Cost'].describe())"
      ],
      "metadata": {
        "id": "7v_ESjsspbW7"
      },
      "execution_count": null,
      "outputs": []
    },
    {
      "cell_type": "markdown",
      "source": [
        "##### 1. Why did you pick the specific chart?\n",
        "Reasons for Choosing This Chart:\n",
        "Combines Discrete and Continuous Data Visualization:\n",
        "\n",
        "The histogram shows the frequency of different cost ranges, while the KDE provides a smooth representation of the data's distribution, giving a more comprehensive view of the underlying patterns.\n",
        "Highlights Central Tendency and Spread:\n",
        "\n",
        "By plotting both the histogram and the KDE curve, we can easily observe where most of the restaurant costs lie (central tendency) and how spread out the costs are (variability).\n",
        "Easy Identification of Peaks and Skewness:\n",
        "\n",
        "The KDE curve helps identify any peaks (modes) in the data, showing if there are certain cost ranges that are more common. It can also indicate whether the distribution is skewed, which is helpful for understanding market segmentation."
      ],
      "metadata": {
        "id": "K5QZ13OEpz2H"
      }
    },
    {
      "cell_type": "markdown",
      "source": [
        "##### 2. What is/are the insight(s) found from the chart?"
      ],
      "metadata": {
        "id": "lQ7QKXXCp7Bj"
      }
    },
    {
      "cell_type": "markdown",
      "source": [
        "1. What is/are the insight(s) found from the chart?\n",
        "The average cost per person is 861 Rs With a std. deviation of 515 Rs\n",
        "Min observed cost is 150 and max is 2800"
      ],
      "metadata": {
        "id": "C_j1G7yiqdRP"
      }
    },
    {
      "cell_type": "markdown",
      "source": [
        "##### 3. Will the gained insights help creating a positive business impact?\n",
        "Understanding Typical Cost Ranges:\n",
        "\n",
        "From the descriptive statistics:\n",
        "Mean cost: ₹861, indicating that on average, a meal at a restaurant costs around ₹861.\n",
        "Median cost (50%): ₹700, suggesting that half of the restaurants have meal costs below ₹700.\n",
        "Standard deviation (std): ₹512, showing considerable variability in restaurant costs.\n",
        "Most restaurants have costs concentrated between ₹500 and ₹1200, as indicated by the 25th percentile (₹500) and 75th percentile (₹1200).\n",
        "Identifying Price Segmentation:\n",
        "\n",
        "The data reveals various market segments, which can help Zomato target different customer groups. For example:\n",
        "Lower-end segment: Restaurants with costs below ₹500.\n",
        "Mid-range segment: Costs between ₹500 and ₹1200.\n",
        "High-end segment: Restaurants costing above ₹1200.\n",
        "Zomato can tailor its marketing strategies based on these segments to attract different types of customers.\n",
        "\n",
        "Potential Growth Opportunities:\n",
        "\n",
        "If the distribution shows a skew towards lower costs, Zomato could consider expanding partnerships with higher-end restaurants to balance the offering. Conversely, if high-cost restaurants dominate, promoting budget-friendly options could attract more customers."
      ],
      "metadata": {
        "id": "448CDAPjqfQr"
      }
    },
    {
      "cell_type": "code",
      "source": [
        "plt.figure(figsize=(10, 6))\n",
        "sns.histplot(data = reviews, x = 'Rating', kde = True, color = 'skyblue')\n",
        "\n",
        "print(\"\\n\",reviews['Rating'].describe())"
      ],
      "metadata": {
        "id": "_hTlXhzYuJ9c"
      },
      "execution_count": null,
      "outputs": []
    },
    {
      "cell_type": "markdown",
      "source": [
        "The average rating is 3.6 indicating a majority of postitive ratings\n",
        "We can see two peaks in the distribution at 1 and 5 indicating that customers tend to have strong opinions about their experiences, either very good or very bad, rather than neutral or average."
      ],
      "metadata": {
        "id": "Cwv92kiGuOYr"
      }
    },
    {
      "cell_type": "markdown",
      "source": [
        "#### Chart - 2"
      ],
      "metadata": {
        "id": "KSlN3yHqYklG"
      }
    },
    {
      "cell_type": "code",
      "source": [
        "# Chart - 2 visualization code\n",
        "all_cuisines = []\n",
        "\n",
        "for cuisine_list in restaurant_data.Cuisines_list:\n",
        "    for cuisine in cuisine_list:\n",
        "        all_cuisines.append(cuisine)\n",
        "\n",
        "# Count the occurrences of each cuisine type\n",
        "cuisine_counts = pd.Series(all_cuisines).value_counts()\n",
        "\n",
        "# Choose the top N cuisine types to display on the y-axis\n",
        "top_n = 10  # You can change this number as needed\n",
        "cuisine_counts = cuisine_counts.head(top_n)\n",
        "\n",
        "# Create the bar chart\n",
        "plt.figure(figsize=(10, 6))\n",
        "bars = plt.barh(cuisine_counts.index, cuisine_counts.values)\n",
        "plt.title('Top {} Cuisine Types in Restaurants'.format(top_n))\n",
        "plt.xlabel('Number of Restaurants')\n",
        "plt.ylabel('Cuisine Type')\n",
        "plt.gca().invert_yaxis()  # Invert the y-axis to display the most common cuisine at the top\n",
        "plt.show()"
      ],
      "metadata": {
        "id": "R4YgtaqtYklH"
      },
      "execution_count": null,
      "outputs": []
    },
    {
      "cell_type": "markdown",
      "source": [
        "##### 2. What is/are the insight(s) found from the chart?"
      ],
      "metadata": {
        "id": "ijmpgYnKYklI"
      }
    },
    {
      "cell_type": "markdown",
      "source": [
        "Northindian seems to be the most popular cuisine and south indian and bakery to be the least popular"
      ],
      "metadata": {
        "id": "PSx9atu2YklI"
      }
    },
    {
      "cell_type": "markdown",
      "source": [
        "#### Chart - 3"
      ],
      "metadata": {
        "id": "EM7whBJCYoAo"
      }
    },
    {
      "cell_type": "code",
      "source": [
        "# Chart - 3 visualization code\n",
        "# Reset index to ensure it's unique\n",
        "restaurant_data.reset_index(drop=True, inplace=True)\n",
        "\n",
        "# Explode the 'Cuisines_list' column to create multiple rows for each cuisine type\n",
        "exploded_cuisines = restaurant_data['Cuisines_list'].explode()\n",
        "\n",
        "# Create a DataFrame from the exploded cuisines and 'Cost' column\n",
        "cuisine_cost_df = pd.DataFrame({'Cuisine Type': exploded_cuisines, 'Cost': restaurant_data['Cost']})\n",
        "\n",
        "# Count the occurrences of each cuisine type and select the top 20\n",
        "top_20_cuisines = cuisine_cost_df['Cuisine Type'].value_counts().head(20).index\n",
        "# Filter the DataFrame to include only the top 20 cuisines\n",
        "cuisine_cost_df_top_20 = cuisine_cost_df[cuisine_cost_df['Cuisine Type'].isin(top_20_cuisines)]\n",
        "\n",
        "# Calculate the average cost for each cuisine type and sort by average cost\n",
        "average_cost_by_cuisine = cuisine_cost_df_top_20.groupby('Cuisine Type')['Cost'].median().sort_values(ascending=False).reset_index()\n",
        "\n",
        "# Create the bar chart\n",
        "plt.figure(figsize=(10, 6))\n",
        "bars = plt.barh(average_cost_by_cuisine['Cuisine Type'], average_cost_by_cuisine['Cost'])\n",
        "plt.title('Median Cost by Cuisine Type')\n",
        "plt.xlabel('Median Cost')\n",
        "plt.ylabel('Cuisine Type')\n",
        "plt.gca().invert_yaxis()  # Invert the y-axis to display the highest median cost at the top\n",
        "\n",
        "plt.tight_layout()\n",
        "plt.show()"
      ],
      "metadata": {
        "id": "t6GMdE67YoAp"
      },
      "execution_count": null,
      "outputs": []
    },
    {
      "cell_type": "markdown",
      "source": [
        "##### 2. What is/are the insight(s) found from the chart?"
      ],
      "metadata": {
        "id": "85gYPyotYoAp"
      }
    },
    {
      "cell_type": "markdown",
      "source": [
        "From the above plot the median cost of cuisine is highest for asian followed by italian and mediterranean\n",
        "With the lowest being fastfoods, burgers and bakery"
      ],
      "metadata": {
        "id": "4jstXR6OYoAp"
      }
    },
    {
      "cell_type": "markdown",
      "source": [
        "#### Chart - 4"
      ],
      "metadata": {
        "id": "4Of9eVA-YrdM"
      }
    },
    {
      "cell_type": "code",
      "source": [
        "# Chart - 4 visualization code\n",
        "# Sort the DataFrame by cost in ascending order (affordable to expensive)\n",
        "affordable_restaurants = restaurant_data.sort_values(by='Cost', ascending=False).tail(20)\n",
        "\n",
        "# Sort the DataFrame by cost in descending order (expensive to affordable)\n",
        "expensive_restaurants = restaurant_data.sort_values(by='Cost', ascending=False).head(20)\n",
        "\n",
        "# Concatenate both DataFrames to create a single DataFrame with the top 20 affordable and top 20 expensive restaurants\n",
        "top_restaurants = pd.concat([expensive_restaurants,affordable_restaurants])\n",
        "\n",
        "# Create a bar plot to visualize the top 20 affordable and top 20 expensive restaurants\n",
        "plt.figure(figsize=(18, 8))\n",
        "plt.barh(top_restaurants['Name'], top_restaurants['Cost'])\n",
        "plt.title('Top 20 Affordable and Expensive Restaurants')\n",
        "plt.xlabel('Cost')\n",
        "plt.ylabel('Restaurant Name')\n",
        "plt.gca().invert_yaxis()  # Invert the y-axis to show the highest cost at the top\n",
        "plt.tight_layout()\n",
        "\n",
        "plt.show()\n",
        "\n",
        "print(\"\\n Statistics for top 20 expensive restaurants\")\n",
        "print(expensive_restaurants.describe())\n",
        "print(\"\\n Statistics for top 20 affordable restaurants\")\n",
        "print(affordable_restaurants.describe())"
      ],
      "metadata": {
        "id": "irlUoxc8YrdO"
      },
      "execution_count": null,
      "outputs": []
    },
    {
      "cell_type": "markdown",
      "source": [
        "##### 2. What is/are the insight(s) found from the chart?"
      ],
      "metadata": {
        "id": "F6T5p64dYrdO"
      }
    },
    {
      "cell_type": "markdown",
      "source": [
        "\n",
        "*  The top expensive restaurants are, on average, about 5.4 times more costly than the top affordable restaurants.\n",
        "*  This data could help consumers make decisions based on their budget.\n",
        "\n",
        "\n"
      ],
      "metadata": {
        "id": "WjkSQ2dIzdui"
      }
    },
    {
      "cell_type": "markdown",
      "source": [
        "#### Chart - 5"
      ],
      "metadata": {
        "id": "bamQiAODYuh1"
      }
    },
    {
      "cell_type": "code",
      "source": [
        "# Chart - 5 visualization code\n",
        "import datetime as dt\n",
        "\n",
        "# Converting 'Time' column to datetime\n",
        "reviews['Time'] = pd.to_datetime(reviews['Time'])\n",
        "\n",
        "# Extracting month, day of the week, and hour\n",
        "reviews['Month'] = reviews['Time'].dt.month\n",
        "reviews['DayOfWeek'] = reviews['Time'].dt.day_name()\n",
        "reviews['Hour'] = reviews['Time'].dt.hour\n",
        "\n",
        "# Seasonal Trend Analysis: Average Rating by Month\n",
        "monthly_avg_rating = reviews.groupby('Month')['Rating'].mean()\n",
        "\n",
        "# Weekly Trend Analysis: Average Rating by Day of the Week\n",
        "weekly_avg_rating = reviews.groupby('DayOfWeek')['Rating'].mean().reindex([\n",
        "    'Monday', 'Tuesday', 'Wednesday', 'Thursday', 'Friday', 'Saturday', 'Sunday'\n",
        "])\n",
        "\n",
        "# Hourly Trend Analysis: Average Rating by Hour of the Day\n",
        "hourly_avg_rating = reviews.groupby('Hour')['Rating'].mean()\n",
        "\n",
        "# Plotting all three trends in a single figure with 3 rows and 1 column\n",
        "fig, axs = plt.subplots(3, 1, figsize=(10, 10))\n",
        "\n",
        "# Monthly Trend Plot\n",
        "axs[0].plot(monthly_avg_rating, color='teal')\n",
        "axs[0].set_title('Average Ratings by Month')\n",
        "axs[0].set_xlabel('Month')\n",
        "axs[0].set_ylabel('Average Rating')\n",
        "axs[0].set_xticks(range(0, 12))\n",
        "axs[0].set_xticklabels([dt.date(2000, m, 1).strftime('%B') for m in range(1, 13)])\n",
        "axs[0].tick_params(axis='x', rotation=45)\n",
        "\n",
        "# Weekly Trend Plot\n",
        "axs[1].plot(weekly_avg_rating, color='purple')\n",
        "axs[1].set_title('Average Ratings by Day of the Week')\n",
        "axs[1].set_xlabel('Day of the Week')\n",
        "axs[1].set_ylabel('Average Rating')\n",
        "axs[1].set_xticks(range(7))\n",
        "axs[1].set_xticklabels(['Monday', 'Tuesday', 'Wednesday', 'Thursday', 'Friday', 'Saturday', 'Sunday'])\n",
        "axs[1].tick_params(axis='x', rotation=45)\n",
        "\n",
        "# Hourly Trend Plot\n",
        "axs[2].plot(hourly_avg_rating, color='orange')\n",
        "axs[2].set_title('Average Ratings by Hour of the Day')\n",
        "axs[2].set_xlabel('Hour of the Day')\n",
        "axs[2].set_ylabel('Average Rating')\n",
        "axs[2].set_xticks(range(0, 24))\n",
        "axs[2].grid(True)\n",
        "\n",
        "plt.tight_layout()\n",
        "plt.show()"
      ],
      "metadata": {
        "id": "TIJwrbroYuh3"
      },
      "execution_count": null,
      "outputs": []
    },
    {
      "cell_type": "markdown",
      "source": [
        "##### 2. What is/are the insight(s) found from the chart?"
      ],
      "metadata": {
        "id": "GwzvFGzlYuh3"
      }
    },
    {
      "cell_type": "markdown",
      "source": [
        "Average Ratings by Month:\n",
        "\n",
        "There is a noticeable peak in June, indicating the highest average ratings occur in this month.\n",
        "There are lower points, particularly noticeable in April and September, suggesting a potential seasonal impact on ratings.\n",
        "Average Ratings by Day of the Week:\n",
        "\n",
        "Ratings peak mid-week, particularly on Wednesday, and then there is a decline towards the weekend.\n",
        "The lowest average ratings occur on Friday.\n",
        "Average Ratings by Hour of the Day:\n",
        "\n",
        "There are peaks in the early hours (around 5 AM), mid-morning (around 9 AM), and late evening (around 8 PM).\n",
        "There are noticeable dips in the late morning (around 7-8 AM) and early evening (around 2-4 PM).\n",
        "Business Implications:\n",
        "\n",
        "Positive Impact: The insights could lead to targeted marketing during peak times, quality control measures when lower ratings are expected, and staffing adjustments to ensure service quality during critical hours or days.\n",
        "Strategic Applications:\n",
        "\n",
        "Seasonal Adjustments: The variation in monthly ratings could suggest that the restaurants should adjust their offerings or operations seasonally, perhaps offering summer specials or comfort food in colder months.\n",
        "\n",
        "Weekly Planning: Understanding that ratings dip over the weekend could imply that customers have higher expectations or that there are operational challenges during these days.\n",
        "\n",
        "Hourly Focus: The hourly variations might reflect changes in customer base or staff shifts. Special attention to service quality at known low points, and maintaining the high standards during the peaks, could enhance overall ratings."
      ],
      "metadata": {
        "id": "uyqkiB8YYuh3"
      }
    },
    {
      "cell_type": "markdown",
      "source": [
        "#### Chart - 6"
      ],
      "metadata": {
        "id": "OH-pJp9IphqM"
      }
    },
    {
      "cell_type": "code",
      "source": [
        "# Chart - 6 visualization code\n",
        "import pandas as pd\n",
        "import matplotlib.pyplot as plt\n",
        "import seaborn as sns  # Import seaborn for enhanced styling\n",
        "\n",
        "# Create 7 bins for the 'Cost' column\n",
        "merged_restaurant_data['Cost_Bin'] = pd.cut(merged_restaurant_data['Cost'], bins=7)\n",
        "\n",
        "# Set a custom color palette for the plot\n",
        "colors = sns.color_palette(\"Set2\")\n",
        "\n",
        "# Create a box plot with seaborn for better styling\n",
        "plt.figure(figsize=(12, 8))\n",
        "sns.set(style=\"whitegrid\")  # Set the style to whitegrid\n",
        "sns.boxplot(x='Cost_Bin', y='Rating', data=merged_restaurant_data, palette=colors)\n",
        "plt.xticks(rotation=45)\n",
        "plt.title('Variation of Ratings with Cost')\n",
        "plt.xlabel('Cost Bins')\n",
        "plt.ylabel('Ratings')\n",
        "\n",
        "# Add grid lines to the plot\n",
        "plt.grid(axis='y', linestyle='--', alpha=0.7)\n",
        "\n",
        "\n",
        "plt.tight_layout()  # Ensure the plot is well-fit within the figure\n",
        "plt.show()"
      ],
      "metadata": {
        "id": "kuRf4wtuphqN"
      },
      "execution_count": null,
      "outputs": []
    },
    {
      "cell_type": "markdown",
      "source": [
        "##### 2. What is/are the insight(s) found from the chart?"
      ],
      "metadata": {
        "id": "_ouA3fa0phqN"
      }
    },
    {
      "cell_type": "markdown",
      "source": [
        "Higher Cost, Higher Ratings: The highest cost bin [(2421, 2800)] shows the highest median rating, which could suggest that more expensive restaurants tend to receive better ratings, possibly due to perceived quality, service, or experience.\n",
        "\n",
        "Spread of Ratings: The box plots show the interquartile range (IQR), which represents the middle 50% of ratings for each cost bin. The IQR appears to be tighter for the lower and middle cost bins, indicating that ratings are more consistent in these categories. The highest cost bin has a larger IQR, suggesting more variability in how customers rate these more expensive restaurants.\n",
        "\n",
        "Presence of Outliers: There are outliers in both the lower and higher cost bins, indicated by the dots outside the main \"box\" of the box plot. This indicates that there are some restaurants with ratings that are significantly lower than the typical range of ratings for their cost category.\n",
        "\n",
        "Business Implications:\n",
        "\n",
        "Positive Impact:\n",
        "\n",
        "For mid-range and lower-cost restaurants, consistent quality seems to lead to consistently good ratings, indicating a well-met customer expectation for these price points.\n",
        "The presence of outliers suggests that there is an opportunity for improvement or differentiation for restaurants that are underperforming within their cost category.\n",
        "\n",
        "Negative Impact:\n",
        "\n",
        "Outliers, especially in the highest cost bin, suggest that high prices alone do not guarantee high ratings. Poor experiences at expensive restaurants may lead to significantly lower ratings due to higher customer expectations associated with higher costs.\n",
        "The larger IQR in the highest cost bin suggests a riskier investment; while high costs can correlate with high ratings, the variability is greater, indicating potential for lower-than-average ratings as well.\n",
        "Addressing the reasons behind outlier ratings, especially in the higher cost bins, could be key to improving overall customer satisfaction and business success."
      ],
      "metadata": {
        "id": "VECbqPI7phqN"
      }
    },
    {
      "cell_type": "markdown",
      "source": [
        "Answer Here"
      ],
      "metadata": {
        "id": "bfSqtnDqZNRR"
      }
    },
    {
      "cell_type": "markdown",
      "source": [
        "## ***5. Sentiment Analysis***"
      ],
      "metadata": {
        "id": "g-ATYxFrGrvw"
      }
    },
    {
      "cell_type": "code",
      "source": [
        "def clean_string(input_string):\n",
        "    cleaned_string = re.sub(r\"(@\\[A-Za-z0-9]+)|([^0-9A-Za-z \\t])|(\\w+:\\/\\/\\S+)|^rt|http.+?|\\d+\", \"\", input_string.lower())\n",
        "    return cleaned_string\n",
        "\n",
        "reviews['Review Cleaned'] = reviews['Review'].apply(clean_string)"
      ],
      "metadata": {
        "id": "3vd62GDSR4GN"
      },
      "execution_count": null,
      "outputs": []
    },
    {
      "cell_type": "code",
      "source": [
        "import pandas as pd\n",
        "from textblob import TextBlob\n",
        "\n",
        "# Function to get sentiment polarity\n",
        "def get_sentiment(text):\n",
        "    return TextBlob(text).sentiment.polarity\n",
        "\n",
        "# Applying the function to the review column\n",
        "reviews['Sentiment'] = reviews['Review Cleaned'].apply(get_sentiment)\n",
        "\n",
        "# Classifying sentiments into positive, negative, and neutral\n",
        "reviews['Sentiment_Type'] = reviews['Sentiment'].apply(lambda x: 'positive' if x > 0 else ('negative' if x < 0 else 'neutral'))\n",
        "\n",
        "# Displaying the first few rows with the sentiment analysis\n",
        "reviews[['Review Cleaned', 'Sentiment', 'Sentiment_Type']].head()"
      ],
      "metadata": {
        "id": "Z4th43BFSTWO"
      },
      "execution_count": null,
      "outputs": []
    },
    {
      "cell_type": "code",
      "source": [
        "# Extract Noun from each review for further analysi\n",
        "import spacy\n",
        "\n",
        "# Load the spaCy model\n",
        "nlp = spacy.load(\"en_core_web_sm\")\n",
        "\n",
        "def extract_food_entities(review):\n",
        "    doc = nlp(review)\n",
        "    # Extract noun from text using spacy\n",
        "    food_entities = [token.text for token in doc if token.pos_ == 'NOUN']\n",
        "    return food_entities\n",
        "\n",
        "# Apply the function to each review\n",
        "reviews['Food_Entities'] = reviews['Review Cleaned'].apply(extract_food_entities)\n",
        "\n",
        "# Display the first few rows with extracted food entities\n",
        "reviews[['Review Cleaned', 'Food_Entities']].head()"
      ],
      "metadata": {
        "id": "rNB-GqpWSqNy"
      },
      "execution_count": null,
      "outputs": []
    },
    {
      "cell_type": "code",
      "source": [
        "reviews['Food_Entities'].value_counts()"
      ],
      "metadata": {
        "id": "P9LSi1F2Sazo"
      },
      "execution_count": null,
      "outputs": []
    },
    {
      "cell_type": "code",
      "source": [
        "# Calculating the cumulative sentiment for each entity\n",
        "from collections import defaultdict\n",
        "\n",
        "# Initialize dictionaries to hold the sum of values of sentiments for each food item\n",
        "food_sentiment_counts = defaultdict(lambda: {'positive': 0, 'negative': 0, 'neutral': 0})\n",
        "\n",
        "# Iterating through each review\n",
        "for index, row in reviews.iterrows():\n",
        "    sentiment = row['Sentiment_Type']\n",
        "    sentiment_value = row['Sentiment']\n",
        "    for food_item in row['Food_Entities']:\n",
        "        # Get the cumulative sentiment value for this food item\n",
        "        food_sentiment_counts[food_item][sentiment] += sentiment_value\n",
        "\n",
        "# Now, food_sentiment_counts has the sentiment counts for each food item\n",
        "food_sentiment_count_df = pd.DataFrame.from_dict(food_sentiment_counts, orient='index')\n",
        "food_sentiment_count_df"
      ],
      "metadata": {
        "id": "2BpcwMoVS_qR"
      },
      "execution_count": null,
      "outputs": []
    },
    {
      "cell_type": "code",
      "source": [
        "# Visualizing the result\n",
        "# Finding the threshold to filter the top values (greater than the 20th highest positive sentiment value)\n",
        "threshold = food_sentiment_count_df['positive'].sort_values(ascending=False)[19]\n",
        "\n",
        "# Filtering the DataFrame\n",
        "top_sentiments_df = food_sentiment_count_df[food_sentiment_count_df['positive'] > threshold].sort_values(by='positive', ascending=False)\n",
        "\n",
        "\n",
        "# Plotting\n",
        "fig, ax = plt.subplots(figsize=(10, 6))\n",
        "\n",
        "# Stacked bar chart for positive counts and any other sentiment counts except negative\n",
        "top_sentiments_df[['positive']].plot(kind='bar', stacked=True, ax=ax, color='green')\n",
        "\n",
        "# Line chart for negative values\n",
        "ax2 = ax.twinx()\n",
        "(top_sentiments_df['negative']*(-1)).plot(kind='line', ax=ax2, color='red', marker='o', linewidth=2, label='Negative')\n",
        "\n",
        "# Labels and legend\n",
        "ax.set_xlabel('Food')\n",
        "ax.set_ylabel('Positive Sentiment Value')\n",
        "ax2.set_ylabel('Negative Sentiment Value')\n",
        "ax.set_title('Sentiment Value for Top 20 Entities Sorted by Positive Sentiment')\n",
        "fig.legend(loc='upper right', bbox_to_anchor=(1.1, 1))\n",
        "ax.set_xticklabels(top_sentiments_df.index, rotation=45)\n",
        "\n",
        "plt.tight_layout()\n",
        "plt.show()\n"
      ],
      "metadata": {
        "id": "tv8D6iaeTFtB"
      },
      "execution_count": null,
      "outputs": []
    },
    {
      "cell_type": "markdown",
      "source": [
        "Food is Key: The entities 'food' and 'place' has the highest mentions by a significant margin.\n",
        "\n",
        "Service Matters: 'Service' is another entity with a high positive sentiment value, showing it's an important factor for customers.\n",
        "\n",
        "Negative Sentiments: Even for entities with high positive sentiment values, there are corresponding negative sentiments, as indicated by the line graph. This suggests that while an aspect might be generally well-received, there are still notable areas of dissatisfaction.\n",
        "\n",
        "Consistent Positive Aspects: Entities such as 'place', 'service' and 'ambience' have strong positive sentiment values, suggesting that these are consistently positive aspects of the restaurants included in this analysis.\n",
        "\n",
        "Specific Food Items: The chart separates 'chicken' and 'veg' indicates varying degrees of sentiment, which could reflect the quality or preference of these food items.\n",
        "\n",
        "Quality Over Quantity: 'Quality' has a higher positive sentiment compared to 'quantity', suggesting that customers value the quality of their meal more than the amount.\n",
        "\n",
        "Less Impactful Entities: Entities like 'music', 'buffet', 'menu', and 'quantity' have lower positive sentiment values, suggesting they are less impactful on overall customer satisfaction.\n",
        "\n",
        "Business Impact:\n",
        "\n",
        "Positive Impact:\n",
        "\n",
        "The chart can help restaurateurs understand what aspects are most valued by customers, allowing them to focus on maintaining high standards in these areas.\n",
        "Negative Impact:\n",
        "\n",
        "Ignoring the entities with high negative sentiment could result in customer dissatisfaction and poor online reviews, which can be detrimental to the business."
      ],
      "metadata": {
        "id": "ciFAt-f7UwY8"
      }
    },
    {
      "cell_type": "code",
      "source": [
        "# Finding the threshold to filter the top values (greater than the 20th highest positive sentiment value)\n",
        "threshold = food_sentiment_count_df['negative'].sort_values(ascending=True)[19]\n",
        "\n",
        "# Filtering the DataFrame\n",
        "top_sentiments_df = food_sentiment_count_df[food_sentiment_count_df['negative'] < threshold].sort_values(by='negative', ascending=True)\n",
        "\n",
        "\n",
        "# Plotting\n",
        "fig, ax = plt.subplots(figsize=(10, 6))\n",
        "\n",
        "# Stacked bar chart for positive counts and any other sentiment counts except negative\n",
        "top_sentiments_df[['positive']].plot(kind='bar', stacked=True, ax=ax)\n",
        "\n",
        "# Line chart for negative values\n",
        "ax2 = ax.twinx()\n",
        "(top_sentiments_df['negative']*(-1)).plot(kind='line', ax=ax2, color='red', marker='o', linewidth=2, label='Negative')\n",
        "\n",
        "# Labels and legend\n",
        "ax.set_xlabel('Food')\n",
        "ax.set_ylabel('Positive Sentiment Value')\n",
        "ax2.set_ylabel('Negative Sentiment Value')\n",
        "ax.set_title('Sentiment Value for Top 20 Entities Sorted by Negative Sentiment')\n",
        "fig.legend(loc='upper right', bbox_to_anchor=(1.1, 1))\n",
        "ax.set_xticklabels(top_sentiments_df.index, rotation=45)\n",
        "plt.tight_layout()\n",
        "plt.show()"
      ],
      "metadata": {
        "id": "kC4UN1GETMKD"
      },
      "execution_count": null,
      "outputs": []
    },
    {
      "cell_type": "markdown",
      "source": [
        "Based on the sentiment values provided for various entities, sorted by negative sentiment, here are the insights and their potential impact on business:\n",
        "\n",
        "Food and Place as Major Drivers: Food and place have the highest positive sentiment values, suggesting that they are key drivers of satisfaction. However, they also have the highest negative sentiments, indicating that these aspects can greatly detract from the experience when they do not meet expectations.\n",
        "\n",
        "Chicken as a High-Risk Item: While chicken has a relatively high positive sentiment, it has a disproportionately high negative sentiment compared to its positive score. This suggests that chicken dishes are crucial to get right, as they can significantly impact customer sentiment.\n",
        "\n",
        "Consistency in Service: Service has a high positive sentiment, but also a notable negative sentiment. Consistent service quality could be a determining factor in overall customer satisfaction.\n",
        "\n",
        "Experience and Taste: These are areas with substantial positive sentiment but also notable negative sentiment. This indicates that while good experiences and taste are praised, bad ones leave a strong negative impression on customers.\n",
        "\n",
        "Quality Over Speed and Accuracy: Quality has a high positive sentiment and a relatively lower negative sentiment compared to order and time. This implies that customers value the quality of their food over the efficiency of service or order accuracy.\n",
        "\n",
        "Value for Money: Money has a low positive sentiment and a negative sentiment, which suggests that the perception of value for money is a concern for customers.\n",
        "\n",
        "Operational Aspects: The negative sentiments for 'order', 'delivery', and 'time' are lower than for 'food', 'chicken', and 'place', but are still significant. This could indicate that operational efficiency in order processing and delivery is an area for improvement.\n",
        "\n",
        "Staff Interaction: Staff have higher positive sentiment and comparatively lower negative sentiment. This suggests that good staff interactions can greatly enhance the customer experience, but poor interactions have less impact on negative sentiment compared to food quality or place.\n",
        "\n",
        "Business Impact:\n",
        "\n",
        "Positive Impact:\n",
        "\n",
        "The data can guide targeted improvements in areas that significantly affect customer sentiment, like food quality and ambiance.\n",
        "Understanding that quality is more important than speed could lead to prioritizing cooking quality over rapid service, improving overall satisfaction.\n",
        "Since value for money is a concern, restaurants could review pricing strategies to better align with customer expectations.\n",
        "Negative Impact:\n",
        "\n",
        "Failing to address areas with high negative sentiment, especially food and place, could lead to customer loss and negative reviews.\n",
        "Overlooking the importance of the chicken dishes and experience could disproportionately impact the business negatively due to their high negative sentiments relative to their positive values.\n",
        "Overall, focusing on areas with high positive sentiment can reinforce strengths, while addressing areas with high negative sentiment can mitigate risks. This balance can create a positive business impact by improving customer satisfaction and loyalty."
      ],
      "metadata": {
        "id": "n4EjsRNHU2PE"
      }
    },
    {
      "cell_type": "markdown",
      "source": [
        "## ***6. Feature Engineering & Data Pre-processing***"
      ],
      "metadata": {
        "id": "yLjJCtPM0KBk"
      }
    },
    {
      "cell_type": "code",
      "source": [
        "# Creating a copy of the dataset for further feature engineering\n",
        "from sklearn.preprocessing import MultiLabelBinarizer\n",
        "\n",
        "# Create a MultiLabelBinarizer\n",
        "mlb = MultiLabelBinarizer()\n",
        "features = mlb.fit_transform(restaurant_data.Cuisines_list)\n",
        "\n",
        "# Create a DataFrame with the cuisine labels\n",
        "features_df = pd.DataFrame(features, columns=mlb.classes_)\n",
        "\n",
        "# Add resataurant name and cost to the features dataFrame\n",
        "features_df['Cost'] = restaurant_data['Cost']\n",
        "features_df['Name'] = restaurant_data['Name']\n",
        "\n",
        "#features_df['avg_rating'] = restaurant_data_ratings['Rating']\n",
        "features_df.set_index('Name', inplace=True)\n",
        "features_df"
      ],
      "metadata": {
        "id": "nuoJI2hvDS7g"
      },
      "execution_count": null,
      "outputs": []
    },
    {
      "cell_type": "code",
      "source": [
        "features_df['Avg_Ratings'] = reviews.groupby('Restaurant')['Rating'].mean().sort_values(ascending=False)\n",
        "\n",
        "# Fill Missing Ratings and Cost values with mean\n",
        "features_df['Avg_Ratings'].fillna(value = features_df['Avg_Ratings'].mean(), inplace = True)\n",
        "features_df['Cost'].fillna(value = features_df['Cost'].mean(), inplace = True)"
      ],
      "metadata": {
        "id": "d5uvPxJxDXhJ"
      },
      "execution_count": null,
      "outputs": []
    },
    {
      "cell_type": "code",
      "source": [
        "# Select only the cuisines that occure more than once\n",
        "selected_features = features_df.columns[features_df.sum(axis=0)>7].tolist()\n",
        "selected_features"
      ],
      "metadata": {
        "id": "GFOgbbF-DaAo"
      },
      "execution_count": null,
      "outputs": []
    },
    {
      "cell_type": "markdown",
      "source": [
        "## ***7. ML Model Implementation***"
      ],
      "metadata": {
        "id": "VfCC591jGiD4"
      }
    },
    {
      "cell_type": "markdown",
      "source": [
        "### ML Model - 1  Implementing K-Means"
      ],
      "metadata": {
        "id": "OB4l2ZhMeS1U"
      }
    },
    {
      "cell_type": "code",
      "source": [
        "selected_features"
      ],
      "metadata": {
        "id": "7ebyywQieS1U"
      },
      "execution_count": null,
      "outputs": []
    },
    {
      "cell_type": "code",
      "source": [
        "import numpy as np\n",
        "import matplotlib.pyplot as plt\n",
        "from sklearn.cluster import KMeans\n",
        "from sklearn.datasets import make_blobs\n",
        "from sklearn.metrics import silhouette_score\n",
        "from sklearn.preprocessing import StandardScaler\n",
        "\n",
        "#X = features_df\n",
        "X= StandardScaler().fit_transform(features_df[selected_features])\n",
        "\n",
        "# Define a range of cluster numbers to try\n",
        "cluster_range = range(2, 15)  # You can adjust this range as needed\n",
        "\n",
        "# Initialize lists to store the inertia (within-cluster sum of squares) and silhouette scores\n",
        "inertia_values = []\n",
        "silhouette_scores = []\n",
        "\n",
        "# Perform K-means clustering for each cluster number in the range\n",
        "for n_clusters in cluster_range:\n",
        "    kmeans = KMeans(n_clusters=n_clusters,init='k-means++', random_state=42)\n",
        "    kmeans.fit(X)\n",
        "\n",
        "    # Calculate the inertia and silhouette score for this cluster number\n",
        "    inertia_values.append(kmeans.inertia_)\n",
        "    silhouette_scores.append(silhouette_score(X, kmeans.labels_))\n",
        "\n",
        "# Plot the elbow curve to find the optimal number of clusters\n",
        "plt.figure(figsize=(12, 6))\n",
        "plt.subplot(1, 2, 1)\n",
        "plt.plot(cluster_range, inertia_values, marker='o')\n",
        "plt.title('Elbow Curve')\n",
        "plt.xlabel('Number of Clusters')\n",
        "plt.ylabel('Inertia (Within-Cluster Sum of Squares)')\n",
        "\n",
        "# Plot the silhouette score to evaluate cluster quality\n",
        "plt.subplot(1, 2, 2)\n",
        "plt.plot(cluster_range, silhouette_scores, marker='o')\n",
        "plt.title('Silhouette Score')\n",
        "plt.xlabel('Number of Clusters')\n",
        "plt.ylabel('Silhouette Score')\n",
        "\n",
        "plt.tight_layout()\n",
        "plt.show()\n",
        "\n",
        "# Based on the plots, you can choose the optimal number of clusters\n",
        "optimal_clusters = cluster_range[np.argmax(silhouette_scores)]\n",
        "print(f\"Optimal number of clusters: {optimal_clusters}\")"
      ],
      "metadata": {
        "id": "v5AFdxYVFWxm"
      },
      "execution_count": null,
      "outputs": []
    },
    {
      "cell_type": "markdown",
      "source": [
        "Optimal number of clusters: 14"
      ],
      "metadata": {
        "id": "p1H6VD3FHqWm"
      }
    },
    {
      "cell_type": "code",
      "source": [
        "# Using the dendogram to find the optimal number of clusters\n",
        "import scipy.cluster.hierarchy as sch\n",
        "\n",
        "dendrogram = sch.dendrogram(sch.linkage(X, method = 'ward'))\n",
        "plt.title('Dendrogram')\n",
        "plt.xlabel('Customers')\n",
        "plt.ylabel('Euclidean Distances')\n",
        "plt.axhline(y=11.5, color='r', linestyle='--')\n",
        "plt.show() # find largest vertical distance we can make without crossing any other horizontal line"
      ],
      "metadata": {
        "id": "DdrCfIoVFdGN"
      },
      "execution_count": null,
      "outputs": []
    },
    {
      "cell_type": "code",
      "source": [
        "# Fitting hierarchical clustering to the mall dataset\n",
        "from sklearn.cluster import AgglomerativeClustering\n",
        "\n",
        "# Hierarchical clustering on the t-SNE transformed data\n",
        "hc = AgglomerativeClustering(n_clusters=7, metric='euclidean', linkage='ward')\n",
        "features_df['Cluster'] = hc.fit_predict(X)\n"
      ],
      "metadata": {
        "id": "fvyb6ml1Ff2n"
      },
      "execution_count": null,
      "outputs": []
    },
    {
      "cell_type": "code",
      "source": [
        "results_df = features_df[selected_features+['Cluster']]\n",
        "results_df"
      ],
      "metadata": {
        "id": "hy2-8WKIFiRy"
      },
      "execution_count": null,
      "outputs": []
    },
    {
      "cell_type": "code",
      "source": [
        "results_df_grouped = results_df.groupby('Cluster').sum()\n",
        "results_df_grouped[['Cost','Avg_Ratings']] = results_df[['Cost','Avg_Ratings','Cluster']].groupby('Cluster').mean()\n",
        "results_df_grouped"
      ],
      "metadata": {
        "id": "xtm9ez-tGc4E"
      },
      "execution_count": null,
      "outputs": []
    },
    {
      "cell_type": "code",
      "source": [
        "# Preparing the data for heatmap\n",
        "cuisine_data = results_df_grouped.drop(['Cost', 'Avg_Ratings'], axis=1)\n",
        "cost_ratings_data = results_df_grouped[['Cost', 'Avg_Ratings']]\n",
        "\n",
        "# Plotting\n",
        "fig, ax = plt.subplots(2, 1, figsize=(12, 10))\n",
        "\n",
        "# Heatmap for cuisine distribution\n",
        "sns.heatmap(cuisine_data.T, cmap=\"YlGnBu\", ax=ax[0])  # Transposing for better layout\n",
        "ax[0].set_title('Heatmap of Cuisine Distribution Across Clusters')\n",
        "\n",
        "# Grouped bar chart for cost and ratings\n",
        "cost_ratings_data.plot(kind='bar', ax=ax[1], secondary_y='Avg_Ratings')\n",
        "ax[1].set_title('Average Cost and Ratings by Cluster')\n",
        "ax[1].set_ylabel('Cost')\n",
        "ax[1].right_ax.set_ylabel('Avg Ratings')\n",
        "\n",
        "plt.tight_layout()\n",
        "plt.show()"
      ],
      "metadata": {
        "id": "r3xGrpPaGgL_"
      },
      "execution_count": null,
      "outputs": []
    },
    {
      "cell_type": "code",
      "source": [
        "#@title Scatterplot of Cost vs Average Ratings with Top 3 Cuisines Labeled\n",
        "df = results_df_grouped.reset_index()\n",
        "\n",
        "# Plotting the scatterplot\n",
        "plt.figure(figsize=(10, 6))\n",
        "for i, row in df.iterrows():\n",
        "    plt.scatter(row['Cost'], row['Avg_Ratings'],s=200, label=f\"{int(row['Cluster'])}\")\n",
        "    top_cuisines = row.drop(['Cluster', 'Cost', 'Avg_Ratings']).nlargest(3)\n",
        "    i = 0\n",
        "    for cuisine, value in top_cuisines.items():\n",
        "        if value > 0:\n",
        "            plt.annotate(cuisine, (row['Cost'], row['Avg_Ratings']), textcoords=\"offset points\", xytext=(30,-20-i*15), ha='center')\n",
        "            i+=1\n",
        "plt.xlabel('Cost')\n",
        "plt.ylabel('Average Ratings')\n",
        "plt.title('Scatterplot of Cost vs Average Ratings with Top 3 Cuisines Labeled')\n",
        "plt.legend()\n",
        "plt.grid(True)\n",
        "plt.show()"
      ],
      "metadata": {
        "id": "WMZaB1g4Gl6N"
      },
      "execution_count": null,
      "outputs": []
    },
    {
      "cell_type": "code",
      "source": [
        "#@title Ratings to Average cost Ratio\n",
        "ax = (cost_ratings_data.Avg_Ratings/cost_ratings_data.Cost).sort_values(ascending=False).plot(kind='bar', figsize=(10, 6))\n",
        "# Adding labels and title\n",
        "plt.title('Ratings to Average Cost Ratio by Cluster')\n",
        "plt.xlabel('Cluster')\n",
        "plt.ylabel('Ratio')\n",
        "plt.xticks(rotation=45)\n",
        "plt.grid(axis='y', linestyle='--', alpha=0.7)\n",
        "\n",
        "# Show plot\n",
        "plt.tight_layout()\n",
        "plt.show()"
      ],
      "metadata": {
        "id": "zfN2i-AxGprb"
      },
      "execution_count": null,
      "outputs": []
    },
    {
      "cell_type": "markdown",
      "source": [
        "#### 1. Explain the ML Model used"
      ],
      "metadata": {
        "id": "ArJBuiUVfxKd"
      }
    },
    {
      "cell_type": "markdown",
      "source": [
        "Explanation of the ML Model and its Performance:\n",
        "The ML model used is K-Means clustering. K-Means is an unsupervised learning algorithm used for clustering data points into K clusters based on similarity.\n",
        "The performance of the K-Means model can be evaluated using two main metrics: inertia and silhouette score.\n",
        "Inertia represents the sum of squared distances of samples to their closest cluster center. Lower inertia values indicate tighter clusters.\n",
        "Silhouette score measures how similar an object is to its own cluster (cohesion) compared to other clusters (separation). Higher silhouette scores indicate better-defined clusters.\n",
        "Based on the provided data:\n",
        "Inertia values decrease as the number of clusters (K) increases, which is expected. However, the rate of decrease slows down as K increases.\n",
        "Silhouette scores also increase with the number of clusters, indicating better-defined clusters.\n",
        "By analyzing both metrics, we can determine the appropriate number of clusters that provide a good balance between tight clustering (low inertia) and well-separated clusters (high silhouette score)."
      ],
      "metadata": {
        "id": "GNlSADuzJS0i"
      }
    },
    {
      "cell_type": "markdown",
      "source": [
        "### 1. Which Evaluation metrics did you consider for a positive business impact and why?"
      ],
      "metadata": {
        "id": "h_CCil-SKHpo"
      }
    },
    {
      "cell_type": "markdown",
      "source": [
        "For a positive business impact, the evaluation metrics of interest may include:\n",
        "\n",
        "Silhouette Score: This metric indicates how well-separated the clusters are. A higher silhouette score suggests that the clusters are well-defined and distinct, which could lead to better segmentation of restaurants and potentially more targeted marketing strategies.\n",
        "\n",
        "\n",
        "Inertia: While inertia is not a direct measure of cluster quality, lower inertia values indicate tighter clusters. Tighter clusters imply that restaurants within the same cluster are more similar to each other in terms of cuisines and other features, which could lead to more accurate recommendations or targeted promotions for customers."
      ],
      "metadata": {
        "id": "jHVz9hHDKFms"
      }
    },
    {
      "cell_type": "markdown",
      "source": [
        "# **Conclusion**"
      ],
      "metadata": {
        "id": "gCX9965dhzqZ"
      }
    },
    {
      "cell_type": "markdown",
      "source": [
        "Cluster 1 has a moderate cost and ratings, and a high ratio of ratings to cost. This cluster has a variety of cuisines, such as desserts, continental, biryani, and Chinese, which may indicate that these restaurants offer a good balance of quality, price, and diversity. This cluster may attract customers who are looking for a satisfying and reasonable dining experience.\n",
        "\n",
        "Cluster 2 has the highest average cost and ratings, indicating that it consists of high-end restaurants that offer premium quality and service. The cuisine of this cluster is mainly Italian and Asian, suggesting that these are popular and profitable choices for upscale dining.\n",
        "\n",
        "Cluster 5 has the second highest average ratings, but a lower cost than cluster 2. This cluster has a large proportion of Asian restaurants, indicating that this cuisine is well-liked and affordable by the customers. This cluster also has some continental and Chinese restaurants, which may appeal to a diverse range of tastes and preferences.\n",
        "\n",
        "Cluster 4 has the lowest average ratings, but a moderate cost. This cluster is dominated by biryani and Chinese restaurants, which may indicate that these cuisines are oversaturated or underperforming in the market. The low ratings may also reflect the quality, service, or hygiene issues of these restaurants.\n",
        "\n",
        "Cluster 6 has the lowest average cost, but also low ratings. This cluster consists mostly of fast food restaurants, which may cater to the budget-conscious or time-pressed customers. However, the low ratings may suggest that these restaurants do not offer much value or satisfaction to the customers.\n",
        "\n",
        "Cluster 0 and 3 have similar costs and ratings, but different cuisines. Cluster 0 has mostly north Indian and Chinese restaurants, while cluster 3 has mostly south Indian and continental restaurants. These clusters may reflect the regional and cultural preferences of the customers, as well as the availability and competition of these cuisines in the market.\n",
        "\n",
        "**Summary of Business Case Solutions Based on Insights:**\n",
        "\n",
        "**Optimizing Food and Place Experiences:**\n",
        "\n",
        "Invest in improving the quality and ambiance of restaurants, focusing on addressing the high negative sentiment associated with food and place.\n",
        "Strategic Approach to Chicken Dishes:\n",
        "\n",
        "Implement a detailed review and improvement strategy specifically for chicken dishes, given their high impact on both positive and negative sentiments.\n",
        "Prioritizing Consistent Service Quality:\n",
        "\n",
        "Develop and implement training programs for staff to ensure consistent service quality, considering its influence on overall customer satisfaction.\n",
        "Balancing Experience and Taste:\n",
        "\n",
        "Conduct regular quality checks to maintain positive sentiments related to experience and taste, mitigating the negative impact of occasional lapses.\n",
        "Emphasizing Quality Over Speed and Accuracy:\n",
        "\n",
        "Adjust operational priorities to prioritize food quality over speed and accuracy, aligning with customer preferences.\n",
        "Addressing Value for Money Concerns:\n",
        "\n",
        "Review pricing strategies to align with customer expectations and communicate value-added services to address the negative sentiment associated with money.\n",
        "Strategic Approach to Cluster Insights:\n",
        "\n",
        "Provide insights to restaurants based on their cluster categorization, enabling them to tailor strategies for improvement or expansion.\n",
        "Encouraging Diversity in Cuisine Offerings:\n",
        "\n",
        "Encourage restaurants to diversify their cuisine offerings based on cluster insights to meet varied customer preferences.\n",
        "These specific business case solutions derived from the insights aim to guide Zomato and its partner restaurants in addressing key areas of improvement, optimizing customer satisfaction, and fostering sustainable business growth."
      ],
      "metadata": {
        "id": "Fjb1IsQkh3yE"
      }
    },
    {
      "cell_type": "markdown",
      "source": [
        "### ***Hurrah! You have successfully completed your Machine Learning Capstone Project !!!***"
      ],
      "metadata": {
        "id": "gIfDvo9L0UH2"
      }
    }
  ]
}